{
 "cells": [
  {
   "cell_type": "markdown",
   "metadata": {},
   "source": [
    "# Clinical Trial Optimization "
   ]
  },
  {
   "cell_type": "markdown",
   "metadata": {},
   "source": [
    "### Problem Presentation\n",
    "\n",
    "This competition organized by Ingenii focused on optimizing subject sorting for a clinical trial. The full problem description is available on [the Aqora platform](https://aqora.io/competitions/ingenii-clinical-trial), which hosts the competition.\n",
    "\n",
    "The task involves grouping subjects based on certain parameters during a clinical trial. The goal is to ensure that, after forming the groups, the subjects within the same group are suited for the clinical tests they will undergo."
   ]
  },
  {
   "cell_type": "markdown",
   "metadata": {},
   "source": [
    "### Mathematical Formulation\n",
    "\n",
    "We have 100 subjects that we wish to divide into two groups \\( p = \\{1, 2\\} \\) with 50 people each. Each subject \\( i \\) is characterized by 3 parameters \\( \\vec{w_i} = (w_{i1}, w_{i2}, w_{i3}) \\). The quality of this partition is measured by the following quantity:\n",
    "\n",
    "$$\n",
    "d = \\sum_{s=1}^{3} |\\Delta\\mu_s| + \\rho \\sum_{s=1}^{3} |\\Delta\\sigma_{ss}| + 2\\rho \\sum_{s=1}^{3} \\sum_{s' = s+1}^{3} |\\Delta\\sigma_{ss'}|\n",
    "$$\n",
    "\n",
    "where:\n",
    "\n",
    "$$\n",
    "\\Delta\\mu_s = \\frac{1}{n} \\sum_{i=1}^{n} w_{is}(x_{i1} - x_{i2})\n",
    "$$\n",
    "\n",
    "and:\n",
    "\n",
    "$$\n",
    "\\Delta\\sigma_{ss'} = \\frac{1}{n} \\sum_{i=1}^{n} w_{is} w_{is'} (x_{i1} - x_{i2})\n",
    "$$\n",
    "\n",
    "Here, \\( x_{ip} \\) is a binary variable that is 1 if subject \\( i \\) belongs to group \\( p \\), and 0 otherwise.\n",
    "\n",
    "The quantity \\( d \\) is called the *discrepancy*. For an ideal grouping, the *discrepancy* is minimized. This grouping problem thus boils down to solving the following optimization problem:\n",
    "\n",
    "$$\n",
    "\\min_{x} d\n",
    "$$\n",
    "\n",
    "under the constraints:\n",
    "\n",
    "$$\n",
    "\\sum_{i}x_{ip} = \\frac{n}{2}, \\quad \\text{Each group contains the same number of subjects.}\n",
    "$$\n",
    "\n",
    "$$\n",
    "x_{i1} + x_{i2} = 1, \\quad \\text{A subject can belong to only one group after the partitioning.}\n",
    "$$\n",
    "\n",
    "$$\n",
    "x_{12} = 0, \\quad \\text{This is to avoid redundancy of solutions, as the same partition is obtained by swapping groups 1 and 2.}\n",
    "$$\n",
    "\n",
    "To solve this problem, I use the QAOA (Quantum Approximate Optimization Algorithm), which allows finding the minimum or maximum of a quadratic function. The first issue we encounter is that we cannot directly implement \\( d \\) due to the absolute value. Therefore, we will first reformulate the problem to make it suitable for implementation with the QAOA algorithm."
   ]
  },
  {
   "cell_type": "markdown",
   "metadata": {},
   "source": [
    "### Reformulation of the problem\n",
    "\n",
    "* **Writing without absolute values:**\n",
    "$$ a = |x| \\Rightarrow x \\leq a \\text{ and } -x \\leq a$$\n",
    "\n",
    "We then define $z_s = |\\Delta\\mu_s|$, $z_{ss} = |\\Delta\\sigma_{ss}|$, and $z_{ss'} = |\\Delta\\sigma_{ss'}|$. The new formulation becomes:\n",
    "$$\n",
    "\\min_{x, z} \\sum_{s=1}^{3} z_s + \\rho \\sum_{s=1}^{3} z_{ss} + 2\\rho \\sum_{s=1}^{3} \\sum_{s' = s+1}^{3} z_{ss'}\n",
    "$$\n",
    "subject to the following constraints:\n",
    "$$\n",
    "\\sum_{i} x_{ip} = \\frac{n}{2}, \\quad \\text{each group contains the same number of subjects.}\n",
    "$$\n",
    "$$\n",
    "x_{i1} + x_{i2} = 1, \\quad \\text{a subject can belong to only one group after clustering.}\n",
    "$$\n",
    "$$\n",
    "x_{12} = 0, \\quad \\text{this prevents redundant solutions, as switching groups 1 and 2 would result in the same clustering.}\n",
    "$$\n",
    "$$\n",
    "\\Delta\\mu_s \\leq z_s \\text{ and } -\\Delta\\mu_s \\leq z_s\n",
    "$$\n",
    "$$\n",
    "\\Delta\\sigma_{ss} \\leq z_{ss} \\text{ and } -\\Delta\\sigma_{ss} \\leq z_{ss}\n",
    "$$\n",
    "$$\n",
    "\\Delta\\sigma_{ss'} \\leq z_{ss'} \\text{ and } -\\Delta\\sigma_{ss'} \\leq z_{ss'}\n",
    "$$\n",
    "\n",
    "* **Reduction of the number of variables:**\n",
    "\n",
    "By replacing the constraint $x_{i1} + x_{i2} = 1$ in the problem, we reduce the number of variables by $n$. After adding the variables $z$, we end up with $n - 1 + 9$, which gives $n + 8$ variables."
   ]
  },
  {
   "cell_type": "markdown",
   "metadata": {},
   "source": [
    "## Implementation\n",
    "At this stage, the problem is well-defined to be implemented with the QAOA algorithm. The next step is to transform it into a QUBO problem."
   ]
  },
  {
   "cell_type": "code",
   "execution_count": 264,
   "metadata": {},
   "outputs": [],
   "source": [
    "n = 2  # number of subjects\n",
    "N = 1  # we remove the division by 1 in the objective function\n",
    "rho = 0.5\n"
   ]
  },
  {
   "cell_type": "code",
   "execution_count": 265,
   "metadata": {},
   "outputs": [],
   "source": [
    "# importation of data of each subject\n",
    "import csv\n",
    "import numpy as np\n",
    "\n",
    "data_list_csv = []\n",
    "with open('pbc.csv', mode='r') as file:\n",
    "    reader = csv.reader(file)\n",
    "    # Skip the header\n",
    "    next(reader)\n",
    "    # Iterate over the rows and add them to the list\n",
    "    for row in reader:\n",
    "        # Convert strings to float for numeric columns\n",
    "        data_list_csv.append([float(row[0]), float(row[1]), float(row[2])])\n",
    "\n",
    "max_values = np.max(data_list_csv , axis=0)\n",
    "data_list_frmt = data_list_csv"
   ]
  },
  {
   "cell_type": "code",
   "execution_count": 266,
   "metadata": {},
   "outputs": [
    {
     "name": "stdout",
     "output_type": "stream",
     "text": [
      "[[12.2, 58.7652292950034, 1718.0], [10.6, 56.4462696783025, 7394.8], [12.0, 70.072553045859, 516.0], [10.3, 54.7405886379192, 6121.8], [10.9, 38.1054072553046, 671.0], [11.0, 66.258726899384, 944.0], [9.7, 55.5345653661875, 824.0], [11.0, 53.056810403833, 4651.2], [11.0, 42.507871321013, 2276.0], [11.5, 70.5598904859685, 918.0]]\n"
     ]
    }
   ],
   "source": [
    "print(data_list_frmt[:10])"
   ]
  },
  {
   "cell_type": "code",
   "execution_count": 267,
   "metadata": {},
   "outputs": [
    {
     "data": {
      "text/plain": [
       "<Variable: 0 <= z_23 <= 30608403 (integer)>"
      ]
     },
     "execution_count": 267,
     "metadata": {},
     "output_type": "execute_result"
    }
   ],
   "source": [
    "# creation of quadratic problem\n",
    "from qiskit_optimization import QuadraticProgram\n",
    "mod = QuadraticProgram(\"Clinical trial Optimization\")\n",
    "\n",
    "for i in range(1, n + 1):\n",
    "    var_name = f\"x_{i}1\"\n",
    "    mod.binary_var(name=var_name)\n",
    "\n",
    "# Integer variables\n",
    "W = []\n",
    "for i in range(3):\n",
    "    w_list = [row[i] for row in data_list_frmt]\n",
    "    w_sum = 0\n",
    "    for w in w_list:\n",
    "        w_sum = w_sum + w  # Sum of w\n",
    "    W.append(w_sum)\n",
    "\n",
    "mod.integer_var(name= \"z_1\", lowerbound=0, upperbound=int(W[0]) + 1)\n",
    "mod.integer_var(name= \"z_2\", lowerbound=0, upperbound=int(W[1]) + 1)\n",
    "mod.integer_var(name= \"z_3\", lowerbound=0, upperbound=int(W[2]) + 1)\n",
    "\n",
    "W_square = []\n",
    "for i in range(3):\n",
    "    w_list = [row[i] for row in data_list_frmt]\n",
    "    w_sum = 0\n",
    "    for w in w_list:\n",
    "        w_sum = w_sum + w**2  # Sum of w squared\n",
    "    W_square.append(w_sum)\n",
    "\n",
    "mod.integer_var(name= \"z_11\", lowerbound=0, upperbound=int(W_square[0]) + 1)\n",
    "mod.integer_var(name= \"z_22\", lowerbound=0, upperbound=int(W_square[1]) + 1)\n",
    "mod.integer_var(name= \"z_33\", lowerbound=0, upperbound=int(W_square[2]) + 1)\n",
    "\n",
    "W_cross = []\n",
    "for i in range(3):\n",
    "    w_list_s = [row[i] for row in data_list_frmt]\n",
    "    for k in range(i + 1, 3):\n",
    "        w_sum = 0\n",
    "        w_list_s_prime = [row[k] for row in data_list_frmt]\n",
    "        for w_i, w_k in zip(w_list_s, w_list_s_prime):\n",
    "            w_sum = w_sum + w_i * w_k  # Sum of cross products\n",
    "        W_cross.append(w_sum)\n",
    "\n",
    "mod.integer_var(name= \"z_12\", lowerbound=0, upperbound=int(W_cross[0] + 1))\n",
    "mod.integer_var(name= \"z_13\", lowerbound=0, upperbound=int(W_cross[1] + 1))\n",
    "mod.integer_var(name= \"z_23\", lowerbound=0, upperbound=int(W_cross[2] + 1))\n"
   ]
  },
  {
   "cell_type": "code",
   "execution_count": 268,
   "metadata": {},
   "outputs": [],
   "source": [
    "# definition of the objective function\n",
    "mod.minimize(linear={\"z_1\": 1 ,\"z_2\": 1 , \"z_3\": 1 \n",
    "                      , \"z_11\":0.5 , \"z_22\":0.5 , \"z_33\":0.5\n",
    "                      , \"z_12\":1 , \"z_13\":1 , \"z_23\":1})"
   ]
  },
  {
   "cell_type": "markdown",
   "metadata": {},
   "source": [
    "## The constraints\n",
    "Now we implément the constraints unders objective function we have "
   ]
  },
  {
   "cell_type": "code",
   "execution_count": 269,
   "metadata": {},
   "outputs": [
    {
     "data": {
      "text/plain": [
       "<LinearConstraint: x_11 == 1 'avoid redundance'>"
      ]
     },
     "execution_count": 269,
     "metadata": {},
     "output_type": "execute_result"
    }
   ],
   "source": [
    "# somme of x_i1 should be equal to n/2\n",
    "dict_som = {f\"x_{i}1\": 1 for i in range(1 , n + 1)}\n",
    "mod.linear_constraint(dict_som , sense= \"==\" , rhs = n/2 , name = \"repartition egale\")\n",
    "\n",
    "#x_11 = 1\n",
    "mod.linear_constraint({\"x_11\": 1} , sense= \"==\" , rhs = 1 , name= \"avoid redundance\")"
   ]
  },
  {
   "cell_type": "markdown",
   "metadata": {},
   "source": [
    "Constraints: $\\Delta\\mu_s \\leq z_s \\text{ et } -\\Delta\\mu_s \\leq z_s$\n",
    "\n",
    "$$\n",
    "\\Delta\\mu_s \\leq z_s  \\Rightarrow \\sum_{i = 1}^{n}2w_{is}x_{i1} - nz_{s} \\leq \\sum_{i = 1}^{n}w_{is} \\\\\n",
    "\n",
    "-\\Delta\\mu_s \\leq z_s \\Rightarrow \\sum_{i = 1}^{n}2w_{is}x_{i1} + nz_{s} \\geq \\sum_{i = 1}^{n}w_{is} \n",
    "$$\n",
    "\n"
   ]
  },
  {
   "cell_type": "code",
   "execution_count": 270,
   "metadata": {},
   "outputs": [],
   "source": [
    "for i in range(3):\n",
    "    dict_x_s = {}\n",
    "    w_list = [row[i] for row in data_list_frmt]\n",
    "\n",
    "    # Multiply the entire equation by 100 to have only integer coefficients\n",
    "    dict_x_s = {f\"x_{j + 1}1\": int(round(2*w_list[j] , 2)*100)  for j in range(0 , n)} \n",
    "    dict_x_s.update({f\"z_{i + 1}\": -n * 100})\n",
    "    mod.linear_constraint(linear=dict_x_s , sense= \"<=\" , rhs= int(round(W[i] , 2)*100))\n",
    "    \n",
    "\n",
    "for i in range(3):\n",
    "    dict_x_s = {}\n",
    "    w_list = [row[i] for row in data_list_frmt]\n",
    "    dict_x_s = {f\"x_{j + 1}1\": int(round(2*w_list[j])*100)  for j in range(0 , n)}\n",
    "    dict_x_s.update({f\"z_{i + 1}\": n*100})\n",
    "    mod.linear_constraint(linear=dict_x_s , sense= \">=\" , rhs= int(round(W[i] , 2)*100))\n"
   ]
  },
  {
   "cell_type": "markdown",
   "metadata": {},
   "source": [
    "Constraints: $\\Delta\\sigma_{ss} \\leq z_{ss} \\text{ et } -\\Delta\\sigma_{ss} \\leq z_{ss}$\n",
    "\n",
    "$$\n",
    "\\Delta\\sigma_{ss} \\leq z_{ss} \\Rightarrow \\sum_{i = 1}^{n}2w_{is}^2x_{i1} - nz_{ss}  \\leq \\sum_{i = 1}^{n}w_{is}^2 \\\\\n",
    "\n",
    "- \\Delta\\sigma_{ss} \\leq z_{ss} \\Rightarrow \\sum_{i = 1}^{n}2w_{is}^2x_{i1} + nz_{ss}  \\geq \\sum_{i = 1}^{n}w_{is}^2 \n",
    "$$"
   ]
  },
  {
   "cell_type": "code",
   "execution_count": 271,
   "metadata": {},
   "outputs": [],
   "source": [
    "for i in range(3):\n",
    "    dict_x_s = {}\n",
    "    w_list = [row[i] for row in data_list_frmt]\n",
    "    dict_x_s = {f\"x_{j + 1}1\": int(round(2*(w_list[j]**2),2)*100) for j in range(0 , n)}\n",
    "    dict_x_s.update({f\"z_{i + 1}\" + f\"{i + 1}\": -n*100})\n",
    "    mod.linear_constraint(linear=dict_x_s , sense= \"<=\" , rhs= int(round(W_square[i],2)*100))\n",
    "   \n",
    "\n",
    "\n",
    "for i in range(3):\n",
    "    dict_x_s = {}\n",
    "    w_list = [row[i] for row in data_list_frmt]\n",
    "    dict_x_s = {f\"x_{j + 1}1\": int(round(2*(w_list[j]**2),2)*100) for j in range(0 , n)}\n",
    "    dict_x_s.update({f\"z_{i + 1}\" + f\"{i + 1}\": n*100})\n",
    "    mod.linear_constraint(linear=dict_x_s , sense= \">=\" , rhs= int(round(W_square[i] , 2)*100))\n",
    "    "
   ]
  },
  {
   "cell_type": "markdown",
   "metadata": {},
   "source": [
    "Constaints: $\\Delta\\sigma_{ss'} \\leq z_{ss'} \\text{ et } -\\Delta\\sigma_{ss'} \\leq z_{ss'}$\n",
    "\n",
    "$$\n",
    "\\Delta\\sigma_{ss'} \\leq z_{ss'} \\Rightarrow \\sum_{i = 1}^{n}2w_{is}w_{is'}x_{i1} - nz_{ss'}  \\leq \\sum_{i = 1}^{n}w_{is}w_{is'} \\\\\n",
    "\n",
    "- \\Delta\\sigma_{ss'} \\leq z_{ss'} \\Rightarrow \\sum_{i = 1}^{n}2w_{is}w_{is'}x_{i1} + nz_{ss'}  \\geq \\sum_{i = 1}^{n}w_{is}w_{is'} \n",
    "$$"
   ]
  },
  {
   "cell_type": "code",
   "execution_count": 272,
   "metadata": {},
   "outputs": [],
   "source": [
    "for i in range(3):\n",
    "    w_list_s = [row[i] for row in data_list_frmt]\n",
    "    for k in range(i + 1 , 3):\n",
    "        dict_x_s = {}\n",
    "        w_list_s_prime = [row[k] for row in data_list_frmt]\n",
    "        dict_x_s = {f\"x_{j + 1}1\": int(round(2*(w_list_s[j]*w_list_s_prime[j]) , 2)*100) for j in range(0 , n)}\n",
    "        dict_x_s.update({f\"z_{i + 1}\" + f\"{k + 1}\": -n*100})\n",
    "        mod.linear_constraint(linear=dict_x_s , sense= \"<=\" , rhs= int(round(W_cross[i] , 2)*100))\n",
    "        \n",
    "\n",
    "\n",
    "for i in range(3):\n",
    "    w_list_s = [row[i] for row in data_list_frmt]\n",
    "    for k in range(i + 1 , 3):\n",
    "        dict_x_s = {}\n",
    "        w_list_s_prime = [row[k] for row in data_list_frmt]\n",
    "        dict_x_s = {f\"x_{j + 1}1\": int(round(2*(w_list_s[j]*w_list_s_prime[j]) , 2)*100) for j in range(0 , n)}\n",
    "        dict_x_s.update({f\"z_{i + 1}\" + f\"{k + 1}\": n*100})\n",
    "        mod.linear_constraint(linear=dict_x_s , sense= \">=\" , rhs= int(round(W_cross[i],2)*100))"
   ]
  },
  {
   "cell_type": "code",
   "execution_count": 273,
   "metadata": {},
   "outputs": [
    {
     "name": "stdout",
     "output_type": "stream",
     "text": [
      "Problem name: Clinical trial Optimization\n",
      "\n",
      "Minimize\n",
      "  z_1 + 0.5*z_11 + z_12 + z_13 + z_2 + 0.5*z_22 + z_23 + z_3 + 0.5*z_33\n",
      "\n",
      "Subject to\n",
      "  Linear constraints (20)\n",
      "    x_11 + x_21 == 1  'repartition egale'\n",
      "    x_11 == 1  'avoid redundance'\n",
      "    2440*x_11 + 2120*x_21 - 200*z_1 <= 334640  'c2'\n",
      "    11753*x_11 + 11289*x_21 - 200*z_2 <= 1560593  'c3'\n",
      "    343600*x_11 + 1478960*x_21 - 200*z_3 <= 61858860  'c4'\n",
      "    2400*x_11 + 2100*x_21 + 200*z_1 >= 334640  'c5'\n",
      "    11800*x_11 + 11300*x_21 + 200*z_2 >= 1560593  'c6'\n",
      "    343600*x_11 + 1479000*x_21 + 200*z_3 >= 61858860  'c7'\n",
      "    29768*x_11 + 22472*x_21 - 200*z_11 <= 3620598  'c8'\n",
      "    690670*x_11 + 637236*x_21 - 200*z_22 <= 81541365  'c9'\n",
      "    590304800*x_11 + 10936613408.0*x_21 - 200*z_33 <= 265122146004  'c10'\n",
      "    29768*x_11 + 22472*x_21 + 200*z_11 >= 3620598  'c11'\n",
      "    690670*x_11 + 637236*x_21 + 200*z_22 >= 81541365  'c12'\n",
      "    590304800*x_11 + 10936613408.0*x_21 + 200*z_33 >= 265122146004  'c13'\n",
      "    143387*x_11 + 119666*x_21 - 200*z_12 <= 16803238  'c14'\n",
      "    4191919*x_11 + 15676976*x_21 - 200*z_13 <= 16803238  'c15'\n",
      "    20191733*x_11 + 83481775*x_21 - 200*z_23 <= 669451606  'c16'\n",
      "    143387*x_11 + 119666*x_21 + 200*z_12 >= 16803238  'c17'\n",
      "    4191919*x_11 + 15676976*x_21 + 200*z_13 >= 16803238  'c18'\n",
      "    20191733*x_11 + 83481775*x_21 + 200*z_23 >= 669451606  'c19'\n",
      "\n",
      "  Integer variables (9)\n",
      "    0 <= z_1 <= 3347\n",
      "    0 <= z_2 <= 15606\n",
      "    0 <= z_3 <= 618589\n",
      "    0 <= z_11 <= 36206\n",
      "    0 <= z_22 <= 815414\n",
      "    0 <= z_33 <= 2651221461\n",
      "    0 <= z_12 <= 168033\n",
      "    0 <= z_13 <= 6694517\n",
      "    0 <= z_23 <= 30608403\n",
      "\n",
      "  Binary variables (2)\n",
      "    x_11 x_21\n",
      "\n"
     ]
    }
   ],
   "source": [
    "print(mod.prettyprint())"
   ]
  },
  {
   "cell_type": "markdown",
   "metadata": {},
   "source": [
    "## Transformation to QUBO\n",
    "\n",
    "The quantum problem with constraints is well-defined. Now we will transform it into a constrained quadratic problem using the `QuadraticProgramToQubo` method."
   ]
  },
  {
   "cell_type": "code",
   "execution_count": 274,
   "metadata": {},
   "outputs": [],
   "source": [
    "from qiskit_optimization.converters import QuadraticProgramToQubo\n",
    "\n",
    "cto_qubo = QuadraticProgramToQubo().convert(mod)\n",
    "#print(cto_qubo.prettyprint())"
   ]
  },
  {
   "cell_type": "markdown",
   "metadata": {},
   "source": [
    "### Mapping into Ising Problem"
   ]
  },
  {
   "cell_type": "markdown",
   "metadata": {},
   "source": [
    "When transforming a quadratic problem into QUBO (Quadratic Unconstrained Binary Optimization), one realizes the exponentially high number of additional binary variables required for this conversion. This is due to the inequality constraints. Indeed, for a constraint of the form  $a_0x_0 + ... + a_nx_n \\leq S$, it requires $\\log_{2}(S) + 1$ additional binary variables to convert it into an equality constraint.\n",
    "\n",
    "In our case, the right-hand sides of the inequality constraints are at least on the order of $10^5$, which necessitates at least 18 additional variables per equation. With 18 equations, this represents at least 324 additional variables, making the problem practically intractable.\n",
    "\n",
    "Thus, due to the absolute value formulation, the data involved in this problem, and the formatting constraints imposed by the Qiskit library, a direct approach to solving this problem becomes unfeasible."
   ]
  },
  {
   "cell_type": "markdown",
   "metadata": {},
   "source": [
    "We will try a different approach. Instead of finding the minimum of $d $, we will look for the minimum of \n",
    "\n",
    "$$\n",
    "d' = \\sum_{s=1}^{3} (\\Delta\\mu_s)^2 + \\rho \\sum_{s=1}^{3} (\\Delta\\sigma_{ss})^2 + 2\\rho \\sum_{s=1}^{3} \\sum_{s' = s+1}^{3} (\\Delta\\sigma_{ss'})^2\n",
    "$$\n",
    "\n",
    "subject to the same constraints as $ d $. I am working with $ d' $ under the assumption that $d$ and $d'$ reach their minimum for the same $ x$ or at least for close values of $x$. The examples below show that $d$ and $d'$ do indeed reach their minimum for the same bit string."
   ]
  },
  {
   "cell_type": "code",
   "execution_count": null,
   "metadata": {},
   "outputs": [
    {
     "name": "stdout",
     "output_type": "stream",
     "text": [
      "M = 2:\n",
      "Minimum value (func1, func2): (25868763.704886556, 669038144399537.5)\n",
      "Best x (func1, func2): ((1, 0), (1, 0))\n",
      "--------------------------------------------------\n",
      "M = 4:\n",
      "Minimum value (func1, func2): (3630773.9507093076, 13179375582999.545)\n",
      "Best x (func1, func2): ((1, 0, 0, 1), (1, 0, 0, 1))\n",
      "--------------------------------------------------\n",
      "M = 6:\n",
      "Minimum value (func1, func2): (2346996.4062184403, 5507211203816.434)\n",
      "Best x (func1, func2): ((1, 0, 0, 1, 0, 1), (1, 0, 0, 1, 0, 1))\n",
      "--------------------------------------------------\n",
      "M = 10:\n",
      "Minimum value (func1, func2): (50525.60581048776, 2520478540.747118)\n",
      "Best x (func1, func2): ((1, 0, 1, 1, 1, 0, 0, 1, 0, 0), (1, 0, 1, 1, 1, 0, 0, 1, 0, 0))\n",
      "--------------------------------------------------\n",
      "M = 12:\n",
      "Minimum value (func1, func2): (7768.342184312127, 56255086.06204513)\n",
      "Best x (func1, func2): ((1, 0, 1, 1, 0, 0, 1, 1, 0, 0, 0, 1), (1, 0, 1, 1, 0, 0, 1, 1, 0, 0, 0, 1))\n",
      "--------------------------------------------------\n",
      "M = 14:\n",
      "Minimum value (func1, func2): (1424.5548274457715, 1574645.1098000188)\n",
      "Best x (func1, func2): ((1, 0, 0, 1, 1, 1, 0, 1, 0, 0, 0, 1, 0, 1), (1, 0, 0, 1, 1, 1, 0, 1, 0, 0, 0, 1, 0, 1))\n",
      "--------------------------------------------------\n",
      "M = 16:\n",
      "Minimum value (func1, func2): (57534.313497360024, 3273917127.4278216)\n",
      "Best x (func1, func2): ((1, 1, 0, 1, 0, 1, 0, 0, 1, 1, 1, 0, 1, 0, 0, 0), (1, 1, 0, 1, 0, 1, 0, 0, 1, 1, 1, 0, 1, 0, 0, 0))\n",
      "--------------------------------------------------\n"
     ]
    }
   ],
   "source": [
    "def objective_func_square(x_list  , n):\n",
    "    d_prime = 0\n",
    "    d_1 =0\n",
    "    d_2 = 0\n",
    "    d_3 = 0\n",
    "    for s in range(3):\n",
    "        w = 0\n",
    "        for i in range(n):\n",
    "            w = w + data_list_frmt[i][s]*(2*x_list[i] - 1)\n",
    "        w = (w/n)**2\n",
    "        d_1 = d_1 + w\n",
    "\n",
    "    for s in range(3):\n",
    "        w = 0\n",
    "        for i in range(n):\n",
    "            w = w + (data_list_frmt[i][s]**2)*(2*x_list[i] - 1)\n",
    "        w = (w/n)**2\n",
    "        d_2 = d_2 + w\n",
    "    d_2 = rho*d_2\n",
    "\n",
    "    for s in range(3):\n",
    "        for s_p in range(s , 3):\n",
    "            w = 0\n",
    "            for i in range(n):\n",
    "                w = w + (data_list_frmt[i][s]*data_list_frmt[i][s_p])*(2*x_list[i] - 1)\n",
    "            w = (w/n)**2\n",
    "            d_3 = d_3 + w\n",
    "    d_3 = 2*rho*d_2\n",
    "\n",
    "    d_prime = d_1 + d_2 + d_3\n",
    "    return d_prime\n",
    "    \n",
    "\n",
    "def objective_func(x_list  , n):\n",
    "    d = 0\n",
    "    d_1 =0\n",
    "    d_2 = 0\n",
    "    d_3 = 0\n",
    "    for s in range(3):\n",
    "        w = 0\n",
    "        for i in range(n):\n",
    "            w = w + data_list_frmt[i][s]*(2*x_list[i] - 1)\n",
    "        w = np.abs(w/n)\n",
    "        d_1 = d_1 + w\n",
    "\n",
    "    for s in range(3):\n",
    "        w = 0\n",
    "        for i in range(n):\n",
    "            w = w + (data_list_frmt[i][s]**2)*(2*x_list[i] - 1)\n",
    "        w = np.abs(w/n)\n",
    "        d_2 = d_2 + w\n",
    "    d_2 = rho*d_2\n",
    "\n",
    "    for s in range(3):\n",
    "        for s_p in range(s , 3):\n",
    "            w = 0\n",
    "            for i in range(n):\n",
    "                w = w + (data_list_frmt[i][s]*data_list_frmt[i][s_p])*(2*x_list[i] - 1)\n",
    "            w = np.abs(w/n)\n",
    "            d_3 = d_3 + w\n",
    "    d_3 = 2*rho*d_2\n",
    "\n",
    "    d = d_1 + d_3 + d_3\n",
    "    return d\n",
    "\n",
    "\n",
    "\n",
    "import itertools\n",
    "list_test = [2, 4, 6, 10, 12, 14, 16, 18]\n",
    "\n",
    "# Loop over different values of M\n",
    "for M in list_test:\n",
    "    poss_list = list(itertools.product([0, 1], repeat=M))  # List of all binary combinations\n",
    "    d_min = 1e20  # Initialization of the minimum value for the first function\n",
    "    d_min_square = 1e20  # Initialization of the minimum value for the second function\n",
    "    best_x = None  # To store the best solution for the first function\n",
    "    best_x_square = None  # To store the best solution for the second function\n",
    "\n",
    "    # Loop over all possible binary combinations\n",
    "    for x in poss_list:\n",
    "        if sum(x) == M / 2:  # Condition on the sum of elements in x\n",
    "            if x[0] == 1:  # Condition on the first element of x\n",
    "                # Calculate the values of the functions\n",
    "                d = objective_func(x, M)\n",
    "                d_square = objective_func_square(x, M)\n",
    "\n",
    "                # Update the best value for the first function\n",
    "                if d < d_min:\n",
    "                    d_min = d\n",
    "                    best_x = x\n",
    "\n",
    "                # Update the best value for the second function\n",
    "                if d_square < d_min_square:\n",
    "                    d_min_square = d_square\n",
    "                    best_x_square = x\n",
    "\n",
    "    # Display the results\n",
    "    print(f\"M = {M}:\")\n",
    "    print(f\"Minimum value (func1, func2): ({d_min}, {d_min_square})\")\n",
    "    print(f\"Best x (func1, func2): ({best_x}, {best_x_square})\")\n",
    "    print(\"-\" * 50)\n",
    "\n",
    "\n",
    "    "
   ]
  },
  {
   "cell_type": "markdown",
   "metadata": {},
   "source": [
    "To implement this new quadratic function $d'$, we need to calculate the coefficients of the linear terms $x_{i1}$ and the quadratic terms $x_{i1}x_{j1}$.\n",
    "\n",
    "$$\n",
    "(\\Delta\\mu_s)^2 = \\frac{1}{n^2} \\left( \\sum_{j = 1}^{n}\\sum_{i = 1}^{n} w_{js}w_{is}(4x_{j1}x_{i1} - 2x_{j1} - 2x_{i1} + 1) \\right) = \\frac{4}{n^2}\\sum_{j = 1}^{n}\\sum_{i = 1}^{n}w_{js}w_{is}x_{j1}x_{i1} - \\frac{4}{n^2}\\sum_{j = 1}^{n}\\sum_{i = 1}^{n}w_{js}w_{is}x_{i1} + \\frac{1}{n^2}\\sum_{j = 1}^{n}\\sum_{i = 1}^{n}w_{js}w_{is}\n",
    "$$\n",
    "\n",
    "$$\n",
    "(\\Delta\\sigma_{ss})^{2} = \\frac{4}{n^2}\\sum_{j = 1}^{n}\\sum_{i = 1}^{n}w_{js}^2w_{is}^2x_{j1}x_{i1} - \\frac{4}{n^2}\\sum_{j = 1}^{n}\\sum_{i = 1}^{n}w_{js}^2w_{is}^2x_{i1} + \\frac{1}{n^2}\\sum_{j = 1}^{n}\\sum_{i = 1}^{n}w_{js}^2w_{is}^2\n",
    "$$\n",
    "\n",
    "$$\n",
    "(\\Delta\\sigma_{ss'})^{2} = \\frac{4}{n^2}\\sum_{j = 1}^{n}\\sum_{i = 1}^{n}w_{js}w_{js'}w_{is}w_{is'}x_{j1}x_{i1} - \\frac{4}{n^2}\\sum_{j = 1}^{n}\\sum_{i = 1}^{n}w_{js}w_{js'}w_{is}w_{is'}x_{i1} + \\frac{1}{n^2}\\sum_{j = 1}^{n}\\sum_{i = 1}^{n}w_{js}w_{js'}w_{is}w_{is'}\n",
    "$$\n"
   ]
  },
  {
   "cell_type": "code",
   "execution_count": 240,
   "metadata": {},
   "outputs": [],
   "source": [
    "variable_name = [f\"x_{i + 1}1\" for i in range(n)]\n",
    "mod_square = QuadraticProgram(\"Clinical trial Optimization\")\n",
    "\n",
    "for i in range(1 , n + 1):\n",
    "    var_name = f\"x_{i}1\"\n",
    "    mod_square.binary_var(name=var_name)\n",
    "\n",
    "# DELTA MU_s contribution\n",
    "# quadratic term\n",
    "coef_quad_1 = [] # list of coefficients of the quadratic term of delta mu\n",
    "dict_quad_1 = {} # dictionary of quadratic terms and their values\n",
    "for i in range(n):\n",
    "    for j in range(n):\n",
    "            l = 0\n",
    "            for s in range(3):\n",
    "                 l = l + data_list_frmt[i][s]*data_list_frmt[j][s]\n",
    "            coef_quad_1.append(l)\n",
    "\n",
    "coef_quad_1 = [ coef*(4/(n*n)) for coef in coef_quad_1]\n",
    "\n",
    "dict_quad_1 = { (variable_name[i], variable_name[j]): None \n",
    "                 for i in range(n) for j in range(n)}\n",
    "dict_quad_1 = {key: coef_quad_1[i] for i, key in enumerate(dict_quad_1.keys())}\n",
    "\n",
    "# linear term\n",
    "coef_lin_1 = [] # list of linear coefficients of delta mu\n",
    "dict_lin_1 = {} # dictionary of linear terms of delta mu and their coefficients\n",
    "for i in range(n):\n",
    "    sub_sum_2 = 0\n",
    "    for s in range(3):\n",
    "        sub_sum = 0\n",
    "        for j in range(n):\n",
    "            sub_sum = sub_sum + data_list_frmt[j][s]\n",
    "\n",
    "        sub_sum_2 = sub_sum_2 + sub_sum*data_list_frmt[i][s]\n",
    "\n",
    "    coef_lin_1.append(sub_sum_2)\n",
    "coef_lin_1 = [coef*(-4/(n**2)) for coef in coef_lin_1]    \n",
    "\n",
    "dict_lin_1 = {variable_name[i]: coef_lin_1[i] for i in range(len(variable_name))}\n",
    "\n",
    "coef_const_1 = [] # list of constants of delta mu \n",
    "const_1 = 0 # sum of the constants of delta mu\n",
    "coef_const_1 = [coef*(1/4) for coef in coef_quad_1] \n",
    "const_1 = sum(coef_const_1)\n",
    "\n",
    "\n",
    "# (SIGMA_ss)^2 contribution\n",
    "# quadratic term\n",
    "coef_quad_2 = [] # list of coefficients of the quadratic term of sigma_ss\n",
    "dict_quad_2 = {} # dictionary of quadratic terms of sigma_ss and their values \n",
    "for i in range(n):\n",
    "    for j in range(n):\n",
    "            l = 0\n",
    "            for s in range(3):\n",
    "                 l = l + rho*(data_list_frmt[i][s]**2)*(data_list_frmt[j][s]**2)\n",
    "            coef_quad_2.append(l)\n",
    "\n",
    "coef_quad_2 = [ coef*(4/(n*n)) for coef in coef_quad_1]\n",
    "\n",
    "dict_quad_2 = { (variable_name[i], variable_name[j]): None \n",
    "                 for i in range(n) for j in range(n)}\n",
    "dict_quad_2 = {key: coef_quad_2[i] for i, key in enumerate(dict_quad_2.keys())}\n",
    "\n",
    "# linear terms\n",
    "coef_lin_2 = [] # list of linear coefficients of sigma_ss\n",
    "dict_lin_2 = {} # dictionary of linear terms of sigma_ss and their coefficients\n",
    "for i in range(n):\n",
    "    for s in range(3):\n",
    "        sub_sum = 0\n",
    "        sub_sum_2 = 0\n",
    "        for j in range(n):\n",
    "            sub_sum = sub_sum + rho*(data_list_frmt[j][s]**2)\n",
    "\n",
    "        sub_sum = sub_sum*(data_list_frmt[i][s]**2)\n",
    "        sub_sum_2 = sub_sum_2 + sub_sum\n",
    "    coef_lin_2.append(sub_sum_2)\n",
    "coef_lin_2 = [coef*(-4/(n**2)) for coef in coef_lin_2]    \n",
    "\n",
    "dict_lin_2 = {variable_name[i]: coef_lin_2[i] for i in range(len(variable_name))}\n",
    "\n",
    "# constant term\n",
    "coef_const_2 = [] # list of constants of sigma_ss \n",
    "const_2 = 0 # sum of the constants of sigma_ss\n",
    "coef_const_2 = [coef*(1/4) for coef in coef_quad_2] \n",
    "const_2 = sum(coef_const_2)\n",
    "\n",
    "\n",
    "\n",
    "# (SIGMA_ss')^2 contribution\n",
    "# quadratic terms\n",
    "coef_quad_3 = [] # list of coefficients of the quadratic term of sigma_ss\n",
    "dict_quad_3 = {} # dictionary of quadratic terms of sigma_ss and their values \n",
    "for i in range(n):\n",
    "    for j in range(n):\n",
    "            l = 0\n",
    "            for s in range(3):\n",
    "                 for s_p in range(s , 3):\n",
    "                    l = l + 2*rho*(data_list_frmt[i][s]*data_list_frmt[i][s_p])*(data_list_frmt[j][s]*data_list_frmt[j][s_p])\n",
    "            coef_quad_3.append(l)\n",
    "\n",
    "coef_quad_3 = [ coef*(4/(n*n)) for coef in coef_quad_3]\n",
    "\n",
    "dict_quad_3 = { (variable_name[i], variable_name[j]): None \n",
    "                 for i in range(n) for j in range(n)}\n",
    "dict_quad_3 = {key: coef_quad_3[i] for i, key in enumerate(dict_quad_3.keys())}\n",
    "\n",
    "\n",
    "# linear terms\n",
    "coef_lin_3 = [] # list of linear coefficients of sigma_ss'\n",
    "dict_lin_3 = {} # dictionary of linear terms of sigma_ss' and their coefficients\n",
    "for i in range(n):\n",
    "    for s in range(3):\n",
    "        for s_p in range(s , 3):\n",
    "            sub_sum = 0\n",
    "            sub_sum_2 = 0\n",
    "            for j in range(n):\n",
    "                sub_sum = sub_sum + (data_list_frmt[j][s]*data_list_frmt[j][s_p])\n",
    "\n",
    "            sub_sum = 2*rho* sub_sum*(data_list_frmt[i][s]*data_list_frmt[i][s_p])\n",
    "            sub_sum_2 = sub_sum_2 + sub_sum\n",
    "    coef_lin_3.append(sub_sum_2)\n",
    "coef_lin_3 = [coef*(-4/(n**2)) for coef in coef_lin_3]    \n",
    "\n",
    "dict_lin_3 = {variable_name[i]: coef_lin_3[i] for i in range(len(variable_name))}\n",
    "\n",
    "# constant term\n",
    "coef_const_3 = [] # list of constants of sigma_ss' \n",
    "const_3 = 0 # sum of the constants of sigma_ss'\n",
    "coef_const_3 = [coef*(1/4) for coef in coef_quad_3] \n",
    "const_3 = sum(coef_const_3)\n",
    "\n",
    "\n",
    "\n",
    "\n",
    "# Summation of the linear coefficients of each term delta, sigma_ss, and sigma_ss'\n",
    "lin_dict = [dict_lin_1 , dict_lin_2 , dict_lin_3]\n",
    "lin = {}\n",
    "for d in lin_dict:\n",
    "    for key , value in d.items():\n",
    "        lin[key] = lin.get(key,0) + (value/1e15)\n",
    "\n",
    "# Summation of the quadratic coefficients\n",
    "lin_quad = [dict_quad_1 , dict_quad_2 , dict_quad_3]\n",
    "quad = {}\n",
    "for d in lin_quad:\n",
    "    for key , value in d.items():\n",
    "        quad[key] = quad.get(key,0) + (value/1e15)\n",
    "\n",
    "# summation of the constants:\n",
    "C = (const_1 + const_2 + const_3)/(1e15)\n"
   ]
  },
  {
   "cell_type": "code",
   "execution_count": 241,
   "metadata": {},
   "outputs": [],
   "source": [
    "# definition of the quadratic problem\n",
    "mod_square.minimize(constant= C , linear= lin , quadratic= quad)"
   ]
  },
  {
   "cell_type": "code",
   "execution_count": 242,
   "metadata": {},
   "outputs": [
    {
     "data": {
      "text/plain": [
       "<LinearConstraint: x_11 == 1 'avoid redundance'>"
      ]
     },
     "execution_count": 242,
     "metadata": {},
     "output_type": "execute_result"
    }
   ],
   "source": [
    "# adding constrainte\n",
    "dict_som = {f\"x_{i}1\": 1 for i in range(1 , n + 1)}\n",
    "mod_square.linear_constraint(dict_som , sense= \"==\" , rhs = n/2 , name = \"repartition egale\") # somme des x_i = n/2\n",
    "mod_square.linear_constraint({\"x_11\": 1} , sense= \"==\" , rhs = 1 , name= \"avoid redundance\") # x_11 = 1\n"
   ]
  },
  {
   "cell_type": "code",
   "execution_count": 243,
   "metadata": {},
   "outputs": [
    {
     "name": "stdout",
     "output_type": "stream",
     "text": [
      "Problem name: Clinical trial Optimization\n",
      "\n",
      "Minimize\n",
      "  0.008722144251274357*x_11^2 + 0.32288441116870736*x_11*x_21\n",
      "  + 2.990418315154597*x_21^2 - 0.25516483368995646*x_11\n",
      "  - 4.7274543758890335*x_21 + 0.8305062176436446\n",
      "\n",
      "Subject to\n",
      "  Linear constraints (2)\n",
      "    x_11 + x_21 == 1  'repartition egale'\n",
      "    x_11 == 1  'avoid redundance'\n",
      "\n",
      "  Binary variables (2)\n",
      "    x_11 x_21\n",
      "\n"
     ]
    }
   ],
   "source": [
    "print(mod_square.prettyprint())"
   ]
  },
  {
   "cell_type": "markdown",
   "metadata": {},
   "source": [
    "### Transformation to QUBO problem"
   ]
  },
  {
   "cell_type": "code",
   "execution_count": 244,
   "metadata": {},
   "outputs": [
    {
     "name": "stdout",
     "output_type": "stream",
     "text": [
      "Problem name: Clinical trial Optimization\n",
      "\n",
      "Minimize\n",
      "  18.61801030455841*x_11^2 + 18.932172571475846*x_11*x_21\n",
      "  + 12.295062395308166*x_21^2 - 37.473741154304236*x_11 - 23.33674253619617*x_21\n",
      "  + 19.439794377950783\n",
      "\n",
      "Subject to\n",
      "  No constraints\n",
      "\n",
      "  Binary variables (2)\n",
      "    x_11 x_21\n",
      "\n"
     ]
    }
   ],
   "source": [
    "cto_square_qubo = QuadraticProgramToQubo().convert(mod_square)\n",
    "print(cto_square_qubo.prettyprint())"
   ]
  },
  {
   "cell_type": "code",
   "execution_count": 245,
   "metadata": {},
   "outputs": [
    {
     "name": "stdout",
     "output_type": "stream",
     "text": [
      "Offset: 9.22413202550283\n",
      "Ising Hamiltonian:\n",
      "SparsePauliOp(['IZ', 'ZI', 'ZZ'],\n",
      "              coeffs=[4.69482228+0.j, 0.78779693+0.j, 4.73304314+0.j])\n"
     ]
    }
   ],
   "source": [
    "# Get Ising Hamiltonian\n",
    "ising_hamiltonian , offset = cto_square_qubo.to_ising()\n",
    "print(\"Offset:\", offset)\n",
    "print(\"Ising Hamiltonian:\")\n",
    "print(str(ising_hamiltonian))"
   ]
  },
  {
   "cell_type": "markdown",
   "metadata": {},
   "source": [
    "# Searching for the Ground State of the Ising Hamiltonian\n",
    "\n",
    "This part of the code is inspired by the tutorial [Solve utility-scale quantum optimization problems](https://learning.quantum.ibm.com/tutorial/quantum-approximate-optimization-algorithm) and follows these steps:\n",
    "\n",
    "* Creation of a parameterized circuit from the Hamiltonian of the problem using QAOAAnsatz()\n",
    "* Conversion of this circuit into a format suitable for the computer on which it will run, using the pass manager\n",
    "* Optimization of the parameters of this circuit\n",
    "* Execution of the circuit with the optimized parameters on the quantum computer.\n",
    "\n",
    "I haven't exactly worked on a quantum computer due to access time limitations but rather on a simulator that simulates the behavior of a quantum computer."
   ]
  },
  {
   "cell_type": "code",
   "execution_count": 246,
   "metadata": {},
   "outputs": [],
   "source": [
    "from qiskit import QuantumCircuit\n",
    "from qiskit.quantum_info import Pauli, Operator\n",
    "\n",
    "# Define an XY mixer for a system with multiple qubits\n",
    "def xy_mixer_circuit(num_qubits):\n",
    "    qc = QuantumCircuit(num_qubits)\n",
    "    for i in range(0, num_qubits - 1, 1):  # Apply on pairs of qubits (0-1, 2-3, ...)\n",
    "        # Pauli-X on the interacting qubits\n",
    "        qc.cx(i, i + 1)  # Applies a CNOT gate between the two qubits\n",
    "        qc.ry(0.5, i + 1)  # Rotation around Y on the target qubit\n",
    "        qc.cx(i, i + 1)  # Apply CNOT again to create an XY interaction\n",
    "    \n",
    "    qc.cx(num_qubits - 1, 0)\n",
    "    qc.ry(0.5, 0)\n",
    "    qc.cx(num_qubits - 1, 0)\n",
    "    return qc"
   ]
  },
  {
   "cell_type": "code",
   "execution_count": 247,
   "metadata": {},
   "outputs": [],
   "source": [
    "# Create an XY mixer circuit for 4 qubits\n",
    "mixer_circuit = xy_mixer_circuit(4)"
   ]
  },
  {
   "cell_type": "code",
   "execution_count": 248,
   "metadata": {},
   "outputs": [
    {
     "data": {
      "image/png": "[encoded data removed]",
      "text/plain": [
       "<Figure size 914.831x284.278 with 1 Axes>"
      ]
     },
     "execution_count": 248,
     "metadata": {},
     "output_type": "execute_result"
    }
   ],
   "source": [
    "from qiskit.circuit.library import QAOAAnsatz\n",
    "from qiskit.quantum_info import SparsePauliOp\n",
    "\n",
    "circuit = QAOAAnsatz(cost_operator= ising_hamiltonian , reps= 6 , mixer_operator= None)\n",
    "ZZ = SparsePauliOp('ZZZZZZ')\n",
    "#circuit = QAOAAnsatz(cost_operator= ising_hamiltonian , reps= 5 , mixer_operator= xy_mixer_circuit(n))\n",
    "#circuit = QAOAAnsatz(cost_operator= ising_hamiltonian , reps= 5 , mixer_operator= ZZ)\n",
    "circuit.measure_all()\n",
    "\n",
    "circuit.draw('mpl' , fold = False , scale = 1 , idle_wires = False)\n"
   ]
  },
  {
   "cell_type": "code",
   "execution_count": 249,
   "metadata": {},
   "outputs": [
    {
     "data": {
      "image/png": "[encoded data removed]",
      "text/plain": [
       "<Figure size 2252.61x618.722 with 1 Axes>"
      ]
     },
     "execution_count": 249,
     "metadata": {},
     "output_type": "execute_result"
    }
   ],
   "source": [
    "circuit.decompose().draw('mpl')"
   ]
  },
  {
   "cell_type": "code",
   "execution_count": 250,
   "metadata": {},
   "outputs": [
    {
     "data": {
      "text/plain": [
       "2"
      ]
     },
     "execution_count": 250,
     "metadata": {},
     "output_type": "execute_result"
    }
   ],
   "source": [
    "circuit.depth()"
   ]
  },
  {
   "cell_type": "code",
   "execution_count": 251,
   "metadata": {},
   "outputs": [
    {
     "data": {
      "text/plain": [
       "12"
      ]
     },
     "execution_count": 251,
     "metadata": {},
     "output_type": "execute_result"
    }
   ],
   "source": [
    "len(circuit.parameters)"
   ]
  },
  {
   "cell_type": "code",
   "execution_count": 252,
   "metadata": {},
   "outputs": [],
   "source": [
    "from qiskit_ibm_runtime import QiskitRuntimeService\n",
    "from qiskit_aer import AerSimulator\n",
    "from qiskit.transpiler.preset_passmanagers import generate_preset_pass_manager\n",
    "\n",
    "service = QiskitRuntimeService()\n",
    "backend = service.backend(\"ibm_sherbrooke\")\n",
    "#aer = AerSimulator.from_backend(backend)\n",
    "aer = AerSimulator()\n",
    "\n",
    "#Create pass manager for transpilation\n",
    "pm = generate_preset_pass_manager(optimization_level=3 , backend=aer)\n",
    "hardware_circuit = pm.run(circuit)\n",
    "#hardware_circuit.draw('mpl' , fold = False , scale = 0.5 , idle_wires=False)"
   ]
  },
  {
   "cell_type": "code",
   "execution_count": 253,
   "metadata": {},
   "outputs": [],
   "source": [
    "initial_gamma = np.pi\n",
    "initial_beta = np.pi\n",
    "init_params = np.random.uniform(0 , np.pi , 12)"
   ]
  },
  {
   "cell_type": "code",
   "execution_count": 254,
   "metadata": {},
   "outputs": [
    {
     "data": {
      "text/plain": [
       "12"
      ]
     },
     "execution_count": 254,
     "metadata": {},
     "output_type": "execute_result"
    }
   ],
   "source": [
    "len(init_params)"
   ]
  },
  {
   "cell_type": "code",
   "execution_count": 255,
   "metadata": {},
   "outputs": [],
   "source": [
    "def cost_func_estimator(params , ansatz , hamiltonian ,  estimator):\n",
    "\n",
    "    # transform the observable defined on virtual qubits to \n",
    "    # an observable defined on all physical qubits\n",
    "    isa_hamiltonian = hamiltonian.apply_layout(ansatz.layout)\n",
    "\n",
    "    pub = (ansatz , isa_hamiltonian , params)\n",
    "    job = estimator.run([pub])\n",
    "\n",
    "    results = job.result()[0]\n",
    "    cost = results.data.evs\n",
    "\n",
    "    objective_func_vals.append(cost)\n",
    "\n",
    "    return cost"
   ]
  },
  {
   "cell_type": "code",
   "execution_count": 256,
   "metadata": {},
   "outputs": [
    {
     "name": "stderr",
     "output_type": "stream",
     "text": [
      "c:\\Users\\isaac\\anaconda3\\envs\\qiskit_env\\Lib\\site-packages\\qiskit_ibm_runtime\\session.py:157: UserWarning: Session is not supported in local testing mode or when using a simulator.\n",
      "  warnings.warn(\n"
     ]
    },
    {
     "name": "stdout",
     "output_type": "stream",
     "text": [
      " message: Optimization terminated successfully.\n",
      " success: True\n",
      "  status: 1\n",
      "     fun: -8.280585931353833\n",
      "       x: [ 2.057e+00  8.277e-01  1.939e+00  3.807e-03  7.871e-01\n",
      "            2.833e+00  2.931e+00  1.929e+00  2.007e+00  1.588e+00\n",
      "            2.303e+00  9.914e-02]\n",
      "    nfev: 76\n",
      "   maxcv: 0.0\n"
     ]
    }
   ],
   "source": [
    "from qiskit_ibm_runtime import Session , EstimatorV2 as Estimator\n",
    "from scipy.optimize import minimize\n",
    "\n",
    "objective_func_vals = [] # Global variable\n",
    "\n",
    "with Session(backend=aer) as session:\n",
    "    # If using qiskit-ibm-runtime<0.24.0 , change 'mode=' to 'session='\n",
    "    estimator = Estimator(session= session)\n",
    "    #estimator.options.default_shots = 1000\n",
    "\n",
    "    # Set simple error suppresion / mitigation options\n",
    "    # estimator.options.dynamical_decoupling.enable = True\n",
    "    # estimator.options.dynamical_decoupling.sequence_type = \"XY4\"\n",
    "    # estimator.options.twirling.enable_gates = True\n",
    "    # estimator.options.twirling.num_randomizations = \"auto\"\n",
    "\n",
    "    result = minimize(\n",
    "        cost_func_estimator , \n",
    "        init_params,\n",
    "        args = (hardware_circuit , ising_hamiltonian , estimator),\n",
    "        method = \"COBYLA\",\n",
    "        tol=1e-2\n",
    "        \n",
    "    )\n",
    "    print(result)"
   ]
  },
  {
   "cell_type": "code",
   "execution_count": 257,
   "metadata": {},
   "outputs": [
    {
     "data": {
      "image/png": "[encoded data removed]",
      "text/plain": [
       "<Figure size 1200x600 with 1 Axes>"
      ]
     },
     "metadata": {},
     "output_type": "display_data"
    }
   ],
   "source": [
    "import matplotlib.pyplot as plt\n",
    "\n",
    "plt.figure(figsize=(12,6))\n",
    "plt.plot(objective_func_vals)\n",
    "plt.xlabel(\"Iteraction\")\n",
    "plt.ylabel(\"Cost\")\n",
    "plt.show()"
   ]
  },
  {
   "cell_type": "code",
   "execution_count": 258,
   "metadata": {},
   "outputs": [],
   "source": [
    "optimized_circuit = hardware_circuit.assign_parameters(result.x)\n",
    "#optimized_circuit.draw('mpl' , fold = False , idle_wires = False)"
   ]
  },
  {
   "cell_type": "code",
   "execution_count": 259,
   "metadata": {},
   "outputs": [
    {
     "name": "stdout",
     "output_type": "stream",
     "text": [
      "{'10': 0.96, '01': 0.0178, '11': 0.0168, '00': 0.0054}\n"
     ]
    }
   ],
   "source": [
    "from qiskit_ibm_runtime import SamplerV2 as Sampler\n",
    "sampler = Sampler(backend = aer)\n",
    "sampler.options.default_shots = 10000\n",
    "\n",
    "# Set simple error suppresion/mitigation options\n",
    "# sampler.options.dynamical_decoupling.enable = True\n",
    "# sampler.options.dynamical_decoupling.sequence_type = \"XY4\"\n",
    "# sampler.options.twirling.enable_gates  = True\n",
    "# sampler.options.twirling.num_randomizations = \"auto\"\n",
    "\n",
    "pub = (optimized_circuit , )\n",
    "job = sampler.run([pub] , shots = int(1e4))\n",
    "counts_int = job.result()[0].data.meas.get_int_counts()\n",
    "counts_bin = job.result()[0].data.meas.get_counts()\n",
    "\n",
    "shots = sum(counts_int.values())\n",
    "final_distribution_int = {key: val/shots for key, val in counts_int.items()}\n",
    "final_distribution_bin = {key: val/shots for key, val in counts_bin.items()}\n",
    "\n",
    "\n",
    "def reverse_bitstring(bitstring):\n",
    "    return bitstring[::-1]\n",
    "\n",
    "eversed_dict_bin = {reverse_bitstring(key): value for key, value in final_distribution_bin.items()}\n",
    "print(eversed_dict_bin)"
   ]
  },
  {
   "cell_type": "code",
   "execution_count": 260,
   "metadata": {},
   "outputs": [
    {
     "name": "stdout",
     "output_type": "stream",
     "text": [
      "{'10': 0.96, '01': 0.0178, '11': 0.0168, '00': 0.0054}\n"
     ]
    }
   ],
   "source": [
    "# Sort by values and get the 3 largest key-value pairs\n",
    "top_5 = dict(sorted(eversed_dict_bin.items(), key=lambda item: item[1], reverse=True)[:5])\n",
    "\n",
    "print(top_5)"
   ]
  },
  {
   "cell_type": "markdown",
   "metadata": {},
   "source": [
    "### Brute force test"
   ]
  },
  {
   "cell_type": "code",
   "execution_count": 261,
   "metadata": {},
   "outputs": [],
   "source": [
    "def objective_func_square(x_list  , n):\n",
    "    d_prime = 0\n",
    "    d_1 =0\n",
    "    d_2 = 0\n",
    "    d_3 = 0\n",
    "    for s in range(3):\n",
    "        w = 0\n",
    "        for i in range(n):\n",
    "            w = w + data_list_frmt[i][s]*(2*x_list[i] - 1)\n",
    "        w = (w/n)**2\n",
    "        d_1 = d_1 + w\n",
    "\n",
    "    for s in range(3):\n",
    "        w = 0\n",
    "        for i in range(n):\n",
    "            w = w + (data_list_frmt[i][s]**2)*(2*x_list[i] - 1)\n",
    "        w = (w/n)**2\n",
    "        d_2 = d_2 + w\n",
    "    d_2 = rho*d_2\n",
    "\n",
    "    for s in range(3):\n",
    "        for s_p in range(s , 3):\n",
    "            w = 0\n",
    "            for i in range(n):\n",
    "                w = w + (data_list_frmt[i][s]*data_list_frmt[i][s_p])*(2*x_list[i] - 1)\n",
    "            w = (w/n)**2\n",
    "            d_3 = d_3 + w\n",
    "    d_3 = 2*rho*d_2\n",
    "\n",
    "    d_prime = d_1 + d_2 + d_3\n",
    "    return (d_prime/1)\n",
    "    \n",
    "\n",
    "def objective_func(x_list  , n):\n",
    "    d = 0\n",
    "    d_1 =0\n",
    "    d_2 = 0\n",
    "    d_3 = 0\n",
    "    for s in range(3):\n",
    "        w = 0\n",
    "        for i in range(n):\n",
    "            w = w + data_list_frmt[i][s]*(2*x_list[i] - 1)\n",
    "        w = np.abs(w/n)\n",
    "        d_1 = d_1 + w\n",
    "\n",
    "    for s in range(3):\n",
    "        w = 0\n",
    "        for i in range(n):\n",
    "            w = w + (data_list_frmt[i][s]**2)*(2*x_list[i] - 1)\n",
    "        w = np.abs(w/n)\n",
    "        d_2 = d_2 + w\n",
    "    d_2 = rho*d_2\n",
    "\n",
    "    for s in range(3):\n",
    "        for s_p in range(s , 3):\n",
    "            w = 0\n",
    "            for i in range(n):\n",
    "                w = w + (data_list_frmt[i][s]*data_list_frmt[i][s_p])*(2*x_list[i] - 1)\n",
    "            w = np.abs(w/n)\n",
    "            d_3 = d_3 + w\n",
    "    d_3 = 2*rho*d_2\n",
    "\n",
    "    d = d_1 + d_3 + d_3\n",
    "    return d\n",
    "    "
   ]
  },
  {
   "cell_type": "code",
   "execution_count": 262,
   "metadata": {},
   "outputs": [
    {
     "name": "stdout",
     "output_type": "stream",
     "text": [
      "M = 2:\n",
      "Minimum value (func1, func2): (25868763.704886556, 669038144399537.5)\n",
      "Best x (func1, func2): ((1, 0), (1, 0))\n",
      "--------------------------------------------------\n"
     ]
    }
   ],
   "source": [
    "import itertools\n",
    "list_test = [n]\n",
    "\n",
    "# Loop over different values of M\n",
    "for M in list_test:\n",
    "    poss_list = list(itertools.product([0, 1], repeat=M))  # List of all binary combinations\n",
    "    d_min = 1e100  # Initialization of the minimum value for the first function\n",
    "    d_min_square = 1e100  # Initialization of the minimum value for the second function\n",
    "    best_x = None  # To store the best solution for the first function\n",
    "    best_x_square = None  # To store the best solution for the second function\n",
    "\n",
    "    # Loop over all possible binary combinations\n",
    "    for x in poss_list:\n",
    "        if sum(x) == M / 2:  # Condition on the sum of elements in x\n",
    "            if x[0] == 1:  # Condition on the first element of x\n",
    "                # Calculating the values of the functions\n",
    "                d = objective_func(x, M)\n",
    "                d_square = objective_func_square(x, M)\n",
    "\n",
    "                # Updating the best value for the first function\n",
    "                if d < d_min:\n",
    "                    d_min = d\n",
    "                    best_x = x\n",
    "\n",
    "                # Updating the best value for the second function\n",
    "                if d_square < d_min_square:\n",
    "                    d_min_square = d_square\n",
    "                    best_x_square = x\n",
    "\n",
    "    # Displaying the results\n",
    "    print(f\"M = {M}:\")\n",
    "    print(f\"Minimum value (func1, func2): ({d_min}, {d_min_square})\")\n",
    "    print(f\"Best x (func1, func2): ({best_x}, {best_x_square})\")\n",
    "    print(\"-\" * 50)\n"
   ]
  },
  {
   "cell_type": "markdown",
   "metadata": {},
   "source": [
    "## Conclusion\n",
    "\n",
    "Solving an optimization problem on quantum hardware requires considering several aspects. One of the first is the formulation of the problem to suit the quantum architecture. In our case, the problem as originally defined was not a quadratic optimization problem. Therefore, we started by reformulating the problem through a change of variables in order to obtain a quadratic version. However, this transformation significantly increased the number of qubits required to solve the problem.\n",
    "\n",
    "In a second approach, we chose a different formulation, which involved replacing the absolute value with a square. This modification allowed us to maintain the same number of variables as with the absolute value, while preserving the same optimal solution. However, this solution has the drawback of requiring interactions between all qubits.\n",
    "\n",
    "During the execution of the QAOA algorithm, we found that, in theory, it is possible to optimize up to 100 qubits. However, the process of searching for the parameters of the cost Hamiltonian and the mixer requires substantial computational power. On my personal computer, I cannot exceed 16 qubits at this stage, even though I have access to a machine with 127 qubits.\n",
    "\n",
    "In summary, I did not obtain a clear or decisive solution when implementing the QAOA algorithm, even with very small instances of the problem, which I find personally strange.\n",
    "\n",
    "One possible improvement would be the use of an **XY-mixer**, as described in the paper [\"From the Quantum Approximate Optimization Algorithm to a Quantum Alternating Operator Ansatz\"](https://arxiv.org/abs/1709.03489). \n",
    "\n",
    "Moreover, we could also consider using an approach based on quantum annealing."
   ]
  },
  {
   "cell_type": "markdown",
   "metadata": {},
   "source": []
  }
 ],
 "metadata": {
  "kernelspec": {
   "display_name": "qiskit_env",
   "language": "python",
   "name": "python3"
  },
  "language_info": {
   "codemirror_mode": {
    "name": "ipython",
    "version": 3
   },
   "file_extension": ".py",
   "mimetype": "text/x-python",
   "name": "python",
   "nbconvert_exporter": "python",
   "pygments_lexer": "ipython3",
   "version": "3.12.4"
  }
 },
 "nbformat": 4,
 "nbformat_minor": 2
}
