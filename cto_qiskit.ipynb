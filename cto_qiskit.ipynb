{
 "cells": [
  {
   "cell_type": "markdown",
   "metadata": {},
   "source": [
    "# Clinical Trial Optimization "
   ]
  },
  {
   "cell_type": "markdown",
   "metadata": {},
   "source": [
    "Je presente ici ma solution pour le probléme d'opimisation d'un trie de sujet pour un test clinique.\n",
    "\n",
    "### Presentation du probléme"
   ]
  },
  {
   "cell_type": "markdown",
   "metadata": {},
   "source": [
    "Cette compétition organisée par Ingenii portait sur l'optimisation du tri des sujets pour un essai clinique. La description complète du problème est disponible sur [la plateforme Aqora](https://aqora.io/competitions/ingenii-clinical-trial), qui héberge la compétition.\n",
    "\n",
    "Le problème consiste à regrouper les sujets en fonction de certains paramètres lors d'un essai clinique. L'objectif est qu'à l'issue de la formation des groupes, les sujets d'un même groupe soient adaptés aux tests cliniques qu'ils devront subir."
   ]
  },
  {
   "cell_type": "markdown",
   "metadata": {},
   "source": [
    "### Formulation mathématique\n",
    "\n",
    "Nous avons 100 sujets que nous souhaitons répartir en deux groupes $p = \\{1, 2\\}$ de 50 personnes chacun. Chaque sujet $i$ est caractérisé par 3 paramètres $\\vec{w_i} = (w_{i1}, w_{i2}, w_{i3})$. Nous mesurons la qualité de ce partitionnement à l'aide de la grandeur suivante :\n",
    "\n",
    "$$\n",
    "d = \\sum_{s=1}^{3} |\\Delta\\mu_s| + \\rho \\sum_{s=1}^{3} |\\Delta\\sigma_{ss}| + 2\\rho \\sum_{s=1}^{3} \\sum_{s' = s+1}^{3} |\\Delta\\sigma_{ss'}|\n",
    "$$\n",
    "\n",
    "où :\n",
    "\n",
    "$$\n",
    "\\Delta\\mu_s = \\frac{1}{n} \\sum_{i=1}^{n} w_{is}(x_{i1} - x_{i2})\n",
    "$$\n",
    "\n",
    "et :\n",
    "\n",
    "$$\n",
    "\\Delta\\sigma_{ss'} = \\frac{1}{n} \\sum_{i=1}^{n} w_{is} w_{is'} (x_{i1} - x_{i2})\n",
    "$$\n",
    "\n",
    "$x_{ip}$ est une variable binaire qui vaut 1 si le sujet $i$ appartient au groupe $p$, et 0 sinon.\n",
    "\n",
    "La grandeur $d$ est appelée la *discrepancy*. Pour un regroupement idéal, la *discrepancy* est minimale. Ce problème de regroupement se ramène donc à résoudre le problème d'optimisation suivant :\n",
    "\n",
    "$$\n",
    "\\min_{x} d\n",
    "$$\n",
    "\n",
    "sous les contraintes :\n",
    "\n",
    "$$\n",
    "\\sum_{i}x_{ip} = \\frac{n}{2}, \\quad \\text{Chaque groupe contient le même nombre de sujets.}\n",
    "$$\n",
    "\n",
    "$$\n",
    "x_{i1} + x_{i2} = 1, \\quad \\text{Un sujet ne peut appartenir qu'à un seul groupe après le regroupement.}\n",
    "$$\n",
    "\n",
    "$$\n",
    "x_{12} = 0, \\quad \\text{Ceci pour éviter la redondance des solutions, car on obtient le même regroupement en intervertissant les groupes 1 et 2.}\n",
    "$$"
   ]
  },
  {
   "cell_type": "markdown",
   "metadata": {},
   "source": [
    "### Reformulation du problème\n",
    "\n",
    "Dans sa formulation initiale, le problème semble nous orienter vers l'utilisation de l'algorithme QAOA. Cependant, cette formulation ne permet pas une implémentation directe de l'algorithme en raison de la présence de valeurs absolues dans la fonction objective. De plus, le nombre de variables impliquées est très élevé : on a effectivement $2n-1$ variables, soit 199 variables dans ce cas, ce qui nécessiterait au moins une machine de 199 qubits, ce qui n'est actuellement pas disponible.\n",
    "\n",
    "* **Écriture sans valeurs absolues :**\n",
    "$$ a = |x| \\Rightarrow x \\leq a \\text{ et } -x \\leq a$$\n",
    "\n",
    "Nous posons alors $z_s = |\\Delta\\mu_s|$, $z_{ss} = |\\Delta\\sigma_{ss}|$, et $z_{ss'} = |\\Delta\\sigma_{ss'}|$. La nouvelle formulation devient :\n",
    "$$\n",
    "\\min_{x, z} \\sum_{s=1}^{3} z_s + \\rho \\sum_{s=1}^{3} z_{ss} + 2\\rho \\sum_{s=1}^{3} \\sum_{s' = s+1}^{3} z_{ss'}\n",
    "$$\n",
    "sous les contraintes suivantes :\n",
    "$$\n",
    "\\sum_{i} x_{ip} = \\frac{n}{2}, \\quad \\text{chaque groupe contient le même nombre de sujets.}\n",
    "$$\n",
    "$$\n",
    "x_{i1} + x_{i2} = 1, \\quad \\text{un sujet ne peut appartenir qu'à un seul groupe après le regroupement.}\n",
    "$$\n",
    "$$\n",
    "x_{12} = 0, \\quad \\text{cela évite la redondance des solutions, car intervertir les groupes 1 et 2 donnerait le même regroupement.}\n",
    "$$\n",
    "$$\n",
    "\\Delta\\mu_s \\leq z_s \\text{ et } -\\Delta\\mu_s \\leq z_s\n",
    "$$\n",
    "$$\n",
    "\\Delta\\sigma_{ss} \\leq z_{ss} \\text{ et } -\\Delta\\sigma_{ss} \\leq z_{ss}\n",
    "$$\n",
    "$$\n",
    "\\Delta\\sigma_{ss'} \\leq z_{ss'} \\text{ et } -\\Delta\\sigma_{ss'} \\leq z_{ss'}\n",
    "$$\n",
    "\n",
    "* **Réduction du nombre de variables :**\n",
    "\n",
    "En remplaçant la contrainte $x_{i1} + x_{i2} = 1$ dans le problème, nous réduisons de $n$ le nombre de variables. En ajoutant les variables $z$, nous obtenons finalement $n - 1 + 9$, soit $n + 8$ variables."
   ]
  },
  {
   "cell_type": "markdown",
   "metadata": {},
   "source": [
    "# Implémentation\n",
    "À ce stade, le problème est bien défini pour être implémenté avec l'algorithme QAOA. La prochaine étape consiste à le transformer en un problème QUBO, une transformation bien connue et générique. Cette étape sera réalisée à l'aide d'une bibliothèque dédiée de Qiskit."
   ]
  },
  {
   "cell_type": "code",
   "execution_count": 114,
   "metadata": {},
   "outputs": [],
   "source": [
    "from qiskit_optimization import QuadraticProgram"
   ]
  },
  {
   "cell_type": "code",
   "execution_count": 115,
   "metadata": {},
   "outputs": [],
   "source": [
    "n =  10 #number of subjects\n",
    "N = 1 # on enléve la division par 1 dans la fonction objective\n",
    "rho = 0.5"
   ]
  },
  {
   "cell_type": "code",
   "execution_count": 116,
   "metadata": {},
   "outputs": [],
   "source": [
    "import csv\n",
    "import numpy as np\n",
    "\n",
    "data_list_csv = []\n",
    "with open('pbc.csv', mode='r') as file:\n",
    "    reader = csv.reader(file)\n",
    "    # Skip the header\n",
    "    next(reader)\n",
    "    # Iterate over the rows and add them to the list\n",
    "    for row in reader:\n",
    "        # Convert strings to float for numeric columns\n",
    "        data_list_csv.append([float(row[0]), float(row[1]), float(row[2])])\n",
    "\n",
    "# je prend un arrondi à deux chiffre apres la virgule et je multiplie toute les donnée par 100 \n",
    "# Pour s'assuerer que tout les coéfficlents des contraintes soient entiére. ceci est \n",
    "# necessaire pour que le probléme soit convertible en QUBO. Cette transformation ne modifie pas la combin\n",
    "max_values = np.max(data_list_csv , axis=0)\n",
    "data_list_frmt = data_list_csv / max_values\n",
    "data_list_frmt = [[(np.around(val ,2)) for val in ligne] for ligne in data_list_frmt]\n",
    "\n"
   ]
  },
  {
   "cell_type": "code",
   "execution_count": 117,
   "metadata": {},
   "outputs": [
    {
     "name": "stdout",
     "output_type": "stream",
     "text": [
      "[[0.71, 0.75, 0.12], [0.62, 0.72, 0.53], [0.7, 0.89, 0.04], [0.6, 0.7, 0.44], [0.64, 0.49, 0.05], [0.64, 0.84, 0.07], [0.57, 0.71, 0.06], [0.64, 0.68, 0.34], [0.64, 0.54, 0.16], [0.67, 0.9, 0.07]]\n"
     ]
    }
   ],
   "source": [
    "print(data_list_frmt[:10])"
   ]
  },
  {
   "cell_type": "code",
   "execution_count": 118,
   "metadata": {},
   "outputs": [
    {
     "data": {
      "text/plain": [
       "<Variable: 0 <= z_23 <= 29 (integer)>"
      ]
     },
     "execution_count": 118,
     "metadata": {},
     "output_type": "execute_result"
    }
   ],
   "source": [
    "mod = QuadraticProgram(\"Clinical trial Optimization\")\n",
    "\n",
    "for i in range(1 , n + 1):\n",
    "    var_name = f\"x_{i}1\"\n",
    "    mod.binary_var(name=var_name)\n",
    "\n",
    "# Variables entiere   \n",
    "W = []\n",
    "for i in range(3):\n",
    "    w_list = [row[i] for row in data_list_frmt]\n",
    "    w_sum = 0\n",
    "    for w in w_list:\n",
    "        w_sum = w_sum + w\n",
    "    W.append(w_sum)\n",
    "\n",
    "mod.integer_var(name= \"z_1\" , lowerbound=0 , upperbound= int(W[0]) + 1)\n",
    "mod.integer_var(name= \"z_2\" , lowerbound=0 , upperbound= int(W[1]) + 1)\n",
    "mod.integer_var(name= \"z_3\" , lowerbound=0 , upperbound= int(W[2]) + 1)\n",
    "#mod.continuous_var(name = \"z_1\" , lowerbound=0 , upperbound=int(W[0]) + 1)\n",
    "#mod.continuous_var(name = \"z_2\" , lowerbound=0 , upperbound=int(W[1]) + 1)\n",
    "#mod.continuous_var(name = \"z_3\" , lowerbound=0 , upperbound=int(W[2]) + 1)\n",
    "\n",
    "W_square = []\n",
    "for i in range(3):\n",
    "    w_list = [row[i] for row in data_list_frmt]\n",
    "    w_sum = 0\n",
    "    for w in w_list:\n",
    "        w_sum = w_sum + w**2\n",
    "    W_square.append(w_sum)\n",
    "\n",
    "mod.integer_var(name= \"z_11\" , lowerbound=0 , upperbound= int(W_square[0]) + 1)\n",
    "mod.integer_var(name= \"z_22\" , lowerbound=0 , upperbound= int(W_square[1]) + 1)\n",
    "mod.integer_var(name= \"z_33\" , lowerbound=0 , upperbound= int(W_square[2]) + 1)\n",
    "#mod.continuous_var(name=\"z_11\" , lowerbound=0 , upperbound=int(W_square[0]) + 1)\n",
    "#mod.continuous_var(name=\"z_22\" , lowerbound=0 , upperbound=int(W_square[1]) + 1)\n",
    "#mod.continuous_var(name=\"z_33\" , lowerbound=0 , upperbound=int(W_square[2]) + 1)\n",
    "\n",
    "\n",
    "W_cross = []\n",
    "for i in range(3):\n",
    "    w_list_s = [row[i] for row in data_list_frmt]\n",
    "    for k in range(i + 1, 3):\n",
    "        w_sum = 0\n",
    "        w_list_s_prime = [row[k] for row in data_list_frmt]\n",
    "        for w_i, w_k in zip(w_list_s, w_list_s_prime):  \n",
    "            w_sum = w_sum + w_i * w_k\n",
    "        W_cross.append(w_sum)\n",
    "mod.integer_var(name = \"z_12\" , lowerbound=0 , upperbound=int(W_cross[0] + 1))\n",
    "mod.integer_var(name = \"z_13\" , lowerbound=0 , upperbound=int(W_cross[1] + 1))\n",
    "mod.integer_var(name = \"z_23\" , lowerbound=0 , upperbound=int(W_cross[2] + 1))\n",
    "#mod.continuous_var(name=\"z_12\" , lowerbound=0 , upperbound=int(W_cross[0]) + 1)\n",
    "#mod.continuous_var(name=\"z_13\" , lowerbound=0 , upperbound=int(W_cross[1]) + 1)\n",
    "#mod.continuous_var(name=\"z_23\" , lowerbound=0 , upperbound=int(W_cross[2]) + 1)\n",
    "\n"
   ]
  },
  {
   "cell_type": "code",
   "execution_count": 119,
   "metadata": {},
   "outputs": [],
   "source": [
    "# definition de la fonction objective\n",
    "mod.minimize(linear={\"z_1\": 1 ,\"z_2\": 1 , \"z_3\": 1 \n",
    "                      , \"z_11\":0.5 , \"z_22\":0.5 , \"z_33\":0.5\n",
    "                      , \"z_12\":1 , \"z_13\":1 , \"z_23\":1})"
   ]
  },
  {
   "cell_type": "markdown",
   "metadata": {},
   "source": [
    "# Les contraintes"
   ]
  },
  {
   "cell_type": "markdown",
   "metadata": {},
   "source": [
    "Contraite $ \\sum_{i} x_{ip} = \\frac{n}{2} \\text{ avec } p = 1$"
   ]
  },
  {
   "cell_type": "code",
   "execution_count": 120,
   "metadata": {},
   "outputs": [
    {
     "data": {
      "text/plain": [
       "<LinearConstraint: x_101 + x_11 + x_21 + x_31 + x_41 + x_51 + x_61 + ... == 5.0 'repartition egale'>"
      ]
     },
     "execution_count": 120,
     "metadata": {},
     "output_type": "execute_result"
    }
   ],
   "source": [
    "dict_som = {f\"x_{i}1\": 1 for i in range(1 , n + 1)}\n",
    "mod.linear_constraint(dict_som , sense= \"==\" , rhs = n/2 , name = \"repartition egale\")"
   ]
  },
  {
   "cell_type": "markdown",
   "metadata": {},
   "source": [
    "Contrainte: $x_{12} = 0 \\Rightarrow x_{11} = 1$"
   ]
  },
  {
   "cell_type": "code",
   "execution_count": 121,
   "metadata": {},
   "outputs": [
    {
     "data": {
      "text/plain": [
       "<LinearConstraint: x_11 == 1 'avoid redundance'>"
      ]
     },
     "execution_count": 121,
     "metadata": {},
     "output_type": "execute_result"
    }
   ],
   "source": [
    "mod.linear_constraint({\"x_11\": 1} , sense= \"==\" , rhs = 1 , name= \"avoid redundance\")"
   ]
  },
  {
   "cell_type": "markdown",
   "metadata": {},
   "source": [
    "Contrainte: $\\Delta\\mu_s \\leq z_s \\text{ et } -\\Delta\\mu_s \\leq z_s$\n",
    "\n",
    "$$\n",
    "\\Delta\\mu_s \\leq z_s \\Rightarrow \\sum_{i = 1}^{n}\\frac{2w_{is}}{n}x_{i1} - z_{s} - \\frac{1}{n}\\sum_{i = 1}^{n}w_{is} \\leq 0 \\\\\n",
    "\n",
    "-\\Delta\\mu_s \\leq z_s \\Rightarrow \\sum_{i = 1}^{n}\\frac{2w_{is}}{n}x_{i1} + z_{s} - \\frac{1}{n}\\sum_{i = 1}^{n}w_{is} \\geq 0 \n",
    "$$\n",
    "\n"
   ]
  },
  {
   "cell_type": "code",
   "execution_count": 122,
   "metadata": {},
   "outputs": [],
   "source": [
    "for i in range(3):\n",
    "    dict_x_s = {}\n",
    "    w_list = [row[i] for row in data_list_frmt]\n",
    "    dict_x_s = {f\"x_{j + 1}1\": (2*w_list[j])  for j in range(0 , n)}\n",
    "    dict_x_s.update({f\"z_{i + 1}\": -1})\n",
    "    #mod.linear_constraint(linear=dict_x_s , sense= \"<=\" , rhs= W[i])\n",
    "    mod.linear_constraint(linear=dict_x_s , sense= \"<=\" , rhs= 1)\n",
    "\n",
    "\n",
    "for i in range(3):\n",
    "    dict_x_s = {}\n",
    "    w_list = [row[i] for row in data_list_frmt]\n",
    "    dict_x_s = {f\"x_{j + 1}1\": (2*w_list[j])  for j in range(0 , n)}\n",
    "    dict_x_s.update({f\"z_{i + 1}\": 1})\n",
    "    #mod.linear_constraint(linear=dict_x_s , sense= \">=\" , rhs= W[i])\n",
    "    mod.linear_constraint(linear=dict_x_s , sense= \">=\" , rhs= 1)"
   ]
  },
  {
   "cell_type": "markdown",
   "metadata": {},
   "source": [
    "Contrainte: $\\Delta\\sigma_{ss} \\leq z_{ss} \\text{ et } -\\Delta\\sigma_{ss} \\leq z_{ss}$\n",
    "\n",
    "$$\n",
    "\\Delta\\sigma_{ss} \\leq z_{ss} \\Rightarrow \\sum_{i = 1}^{n}\\frac{2w_{is}^2}{n}x_{i1} - z_{ss}  \\leq \\frac{1}{n}\\sum_{i = 1}^{n}w_{is}^2 \\\\\n",
    "\n",
    "- \\Delta\\sigma_{ss} \\leq z_{ss} \\Rightarrow \\sum_{i = 1}^{n}\\frac{2w_{is}^2}{n}x_{i1} + z_{ss}  \\geq \\frac{1}{n}\\sum_{i = 1}^{n}w_{is}^2 \n",
    "$$"
   ]
  },
  {
   "cell_type": "code",
   "execution_count": 123,
   "metadata": {},
   "outputs": [],
   "source": [
    "for i in range(3):\n",
    "    dict_x_s = {}\n",
    "    w_list = [row[i] for row in data_list_frmt]\n",
    "    dict_x_s = {f\"x_{j + 1}1\": 2*(w_list[j]**2)  for j in range(0 , n)}\n",
    "    dict_x_s.update({f\"z_{i + 1}\" + f\"{i + 1}\": -1})\n",
    "    #mod.linear_constraint(linear=dict_x_s , sense= \"<=\" , rhs= W_square[i])\n",
    "    mod.linear_constraint(linear=dict_x_s , sense= \"<=\" , rhs= 1)\n",
    "\n",
    "\n",
    "for i in range(3):\n",
    "    dict_x_s = {}\n",
    "    w_list = [row[i] for row in data_list_frmt]\n",
    "    dict_x_s = {f\"x_{j + 1}1\": 2*(w_list[j]**2) for j in range(0 , n)}\n",
    "    dict_x_s.update({f\"z_{i + 1}\" + f\"{i + 1}\": 1})\n",
    "    #mod.linear_constraint(linear=dict_x_s , sense= \">=\" , rhs= W_square[i])\n",
    "    mod.linear_constraint(linear=dict_x_s , sense= \">=\" , rhs= 1)"
   ]
  },
  {
   "cell_type": "code",
   "execution_count": 132,
   "metadata": {},
   "outputs": [
    {
     "data": {
      "text/plain": [
       "[123.57319999999984, 132.32159999999993, 13.759899999999986]"
      ]
     },
     "execution_count": 132,
     "metadata": {},
     "output_type": "execute_result"
    }
   ],
   "source": [
    "W_square"
   ]
  },
  {
   "cell_type": "markdown",
   "metadata": {},
   "source": [
    "Containte: $\\Delta\\sigma_{ss'} \\leq z_{ss'} \\text{ et } -\\Delta\\sigma_{ss'} \\leq z_{ss'}$\n",
    "\n",
    "$$\n",
    "\\Delta\\sigma_{ss'} \\leq z_{ss'} \\Rightarrow \\sum_{i = 1}^{n}\\frac{2w_{is}w_{is'}}{n}x_{i1} - z_{ss'}  \\leq \\frac{1}{n}\\sum_{i = 1}^{n}w_{is}w_{is'} \\\\\n",
    "\n",
    "- \\Delta\\sigma_{ss'} \\leq z_{ss'} \\Rightarrow \\sum_{i = 1}^{n}\\frac{2w_{is}w_{is'}}{n}x_{i1} + z_{ss'}  \\geq \\frac{1}{n}\\sum_{i = 1}^{n}w_{is}w_{is'} \n",
    "$$"
   ]
  },
  {
   "cell_type": "code",
   "execution_count": 125,
   "metadata": {},
   "outputs": [],
   "source": [
    "for i in range(3):\n",
    "    w_list_s = [row[i] for row in data_list_frmt]\n",
    "    for k in range(i + 1 , 3):\n",
    "        dict_x_s = {}\n",
    "        w_list_s_prime = [row[k] for row in data_list_frmt]\n",
    "        dict_x_s = {f\"x_{j + 1}1\": 2*(w_list_s[j]*w_list_s_prime[j]) for j in range(0 , n)}\n",
    "        dict_x_s.update({f\"z_{i + 1}\" + f\"{k + 1}\": -1})\n",
    "        #mod.linear_constraint(linear=dict_x_s , sense= \"<=\" , rhs= W_cross[i])\n",
    "        mod.linear_constraint(linear=dict_x_s , sense= \"<=\" , rhs= 1)\n",
    "\n",
    "\n",
    "for i in range(3):\n",
    "    w_list_s = [row[i] for row in data_list_frmt]\n",
    "    for k in range(i + 1 , 3):\n",
    "        dict_x_s = {}\n",
    "        w_list_s_prime = [row[k] for row in data_list_frmt]\n",
    "        dict_x_s = {f\"x_{j + 1}1\": 2*(w_list_s[j]*w_list_s_prime[j]) for j in range(0 , n)}\n",
    "        dict_x_s.update({f\"z_{i + 1}\" + f\"{k + 1}\": 1})\n",
    "        #mod.linear_constraint(linear=dict_x_s , sense= \">=\" , rhs= W_cross[i])\n",
    "        mod.linear_constraint(linear=dict_x_s , sense= \">=\" , rhs= 1)"
   ]
  },
  {
   "cell_type": "code",
   "execution_count": 126,
   "metadata": {},
   "outputs": [
    {
     "name": "stdout",
     "output_type": "stream",
     "text": [
      "Problem name: Clinical trial Optimization\n",
      "\n",
      "Minimize\n",
      "  z_1 + 0.5*z_11 + z_12 + z_13 + z_2 + 0.5*z_22 + z_23 + z_3 + 0.5*z_33\n",
      "\n",
      "Subject to\n",
      "  Linear constraints (20)\n",
      "    x_101 + x_11 + x_21 + x_31 + x_41 + x_51 + x_61 + x_71 + x_81 + x_91\n",
      "    == 5  'repartition egale'\n",
      "    x_11 == 1  'avoid redundance'\n",
      "    1.34*x_101 + 1.42*x_11 + 1.24*x_21 + 1.4*x_31 + 1.2*x_41 + 1.28*x_51\n",
      "    + 1.28*x_61 + 1.14*x_71 + 1.28*x_81 + 1.28*x_91 - z_1 <= 1  'c2'\n",
      "    1.8*x_101 + 1.5*x_11 + 1.44*x_21 + 1.78*x_31 + 1.4*x_41 + 0.98*x_51\n",
      "    + 1.68*x_61 + 1.42*x_71 + 1.36*x_81 + 1.08*x_91 - z_2 <= 1  'c3'\n",
      "    0.14*x_101 + 0.24*x_11 + 1.06*x_21 + 0.08*x_31 + 0.88*x_41 + 0.1*x_51\n",
      "    + 0.14*x_61 + 0.12*x_71 + 0.68*x_81 + 0.32*x_91 - z_3 <= 1  'c4'\n",
      "    1.34*x_101 + 1.42*x_11 + 1.24*x_21 + 1.4*x_31 + 1.2*x_41 + 1.28*x_51\n",
      "    + 1.28*x_61 + 1.14*x_71 + 1.28*x_81 + 1.28*x_91 + z_1 >= 1  'c5'\n",
      "    1.8*x_101 + 1.5*x_11 + 1.44*x_21 + 1.78*x_31 + 1.4*x_41 + 0.98*x_51\n",
      "    + 1.68*x_61 + 1.42*x_71 + 1.36*x_81 + 1.08*x_91 + z_2 >= 1  'c6'\n",
      "    0.14*x_101 + 0.24*x_11 + 1.06*x_21 + 0.08*x_31 + 0.88*x_41 + 0.1*x_51\n",
      "    + 0.14*x_61 + 0.12*x_71 + 0.68*x_81 + 0.32*x_91 + z_3 >= 1  'c7'\n",
      "    0.8978000000000002*x_101 + 1.0082*x_11 + 0.7688*x_21\n",
      "    + 0.9799999999999999*x_31 + 0.72*x_41 + 0.8192*x_51 + 0.8192*x_61\n",
      "    + 0.6497999999999999*x_71 + 0.8192*x_81 + 0.8192*x_91 - z_11 <= 1  'c8'\n",
      "    1.62*x_101 + 1.125*x_11 + 1.0368*x_21 + 1.5842*x_31\n",
      "    + 0.9799999999999999*x_41 + 0.48019999999999996*x_51\n",
      "    + 1.4111999999999998*x_61 + 1.0082*x_71 + 0.9248000000000002*x_81\n",
      "    + 0.5832*x_91 - z_22 <= 1  'c9'\n",
      "    0.009800000000000001*x_101 + 0.0288*x_11 + 0.5618000000000001*x_21\n",
      "    + 0.0032*x_31 + 0.3872*x_41 + 0.005000000000000001*x_51\n",
      "    + 0.009800000000000001*x_61 + 0.0072*x_71 + 0.23120000000000004*x_81\n",
      "    + 0.0512*x_91 - z_33 <= 1  'c10'\n",
      "    0.8978000000000002*x_101 + 1.0082*x_11 + 0.7688*x_21\n",
      "    + 0.9799999999999999*x_31 + 0.72*x_41 + 0.8192*x_51 + 0.8192*x_61\n",
      "    + 0.6497999999999999*x_71 + 0.8192*x_81 + 0.8192*x_91 + z_11 >= 1  'c11'\n",
      "    1.62*x_101 + 1.125*x_11 + 1.0368*x_21 + 1.5842*x_31\n",
      "    + 0.9799999999999999*x_41 + 0.48019999999999996*x_51\n",
      "    + 1.4111999999999998*x_61 + 1.0082*x_71 + 0.9248000000000002*x_81\n",
      "    + 0.5832*x_91 + z_22 >= 1  'c12'\n",
      "    0.009800000000000001*x_101 + 0.0288*x_11 + 0.5618000000000001*x_21\n",
      "    + 0.0032*x_31 + 0.3872*x_41 + 0.005000000000000001*x_51\n",
      "    + 0.009800000000000001*x_61 + 0.0072*x_71 + 0.23120000000000004*x_81\n",
      "    + 0.0512*x_91 + z_33 >= 1  'c13'\n",
      "    1.2060000000000002*x_101 + 1.065*x_11 + 0.8927999999999999*x_21 + 1.246*x_31\n",
      "    + 0.84*x_41 + 0.6272*x_51 + 1.0752*x_61 + 0.8093999999999999*x_71\n",
      "    + 0.8704000000000001*x_81 + 0.6912*x_91 - z_12 <= 1  'c14'\n",
      "    0.09380000000000001*x_101 + 0.1704*x_11 + 0.6572*x_21\n",
      "    + 0.055999999999999994*x_31 + 0.528*x_41 + 0.064*x_51\n",
      "    + 0.08960000000000001*x_61 + 0.06839999999999999*x_71\n",
      "    + 0.43520000000000003*x_81 + 0.2048*x_91 - z_13 <= 1  'c15'\n",
      "    0.12600000000000003*x_101 + 0.18*x_11 + 0.7632*x_21 + 0.0712*x_31\n",
      "    + 0.616*x_41 + 0.049*x_51 + 0.11760000000000001*x_61 + 0.0852*x_71\n",
      "    + 0.4624000000000001*x_81 + 0.1728*x_91 - z_23 <= 1  'c16'\n",
      "    1.2060000000000002*x_101 + 1.065*x_11 + 0.8927999999999999*x_21 + 1.246*x_31\n",
      "    + 0.84*x_41 + 0.6272*x_51 + 1.0752*x_61 + 0.8093999999999999*x_71\n",
      "    + 0.8704000000000001*x_81 + 0.6912*x_91 + z_12 >= 1  'c17'\n",
      "    0.09380000000000001*x_101 + 0.1704*x_11 + 0.6572*x_21\n",
      "    + 0.055999999999999994*x_31 + 0.528*x_41 + 0.064*x_51\n",
      "    + 0.08960000000000001*x_61 + 0.06839999999999999*x_71\n",
      "    + 0.43520000000000003*x_81 + 0.2048*x_91 + z_13 >= 1  'c18'\n",
      "    0.12600000000000003*x_101 + 0.18*x_11 + 0.7632*x_21 + 0.0712*x_31\n",
      "    + 0.616*x_41 + 0.049*x_51 + 0.11760000000000001*x_61 + 0.0852*x_71\n",
      "    + 0.4624000000000001*x_81 + 0.1728*x_91 + z_23 >= 1  'c19'\n",
      "\n",
      "  Integer variables (9)\n",
      "    0 <= z_1 <= 196\n",
      "    0 <= z_2 <= 199\n",
      "    0 <= z_3 <= 45\n",
      "    0 <= z_11 <= 124\n",
      "    0 <= z_22 <= 133\n",
      "    0 <= z_33 <= 14\n",
      "    0 <= z_12 <= 126\n",
      "    0 <= z_13 <= 29\n",
      "    0 <= z_23 <= 29\n",
      "\n",
      "  Binary variables (10)\n",
      "    x_11 x_21 x_31 x_41 x_51 x_61 x_71 x_81 x_91 x_101\n",
      "\n"
     ]
    }
   ],
   "source": [
    "print(mod.prettyprint())"
   ]
  },
  {
   "cell_type": "markdown",
   "metadata": {},
   "source": [
    "# Transformation en QUBO\n",
    "\n",
    "La conversion d'un problème en QUBO (Quadratic Unconstrained Binary Optimization) est un processus générique sur lequel je ne me suis pas attardé en profondeur, bien qu'il soit intéressant de s'intéresser à la manière la plus optimale de réaliser cette transformation. Dans ce travail, cette conversion sera effectuée à l'aide des outils proposés par Qiskit."
   ]
  },
  {
   "cell_type": "code",
   "execution_count": 127,
   "metadata": {},
   "outputs": [
    {
     "ename": "QiskitOptimizationError",
     "evalue": "'Incompatible problem: Can not convert inequality constraints to equality constraint because                     float coefficients are in constraints. '",
     "output_type": "error",
     "traceback": [
      "\u001b[1;31m---------------------------------------------------------------------------\u001b[0m",
      "\u001b[1;31mQiskitOptimizationError\u001b[0m                   Traceback (most recent call last)",
      "Cell \u001b[1;32mIn[127], line 3\u001b[0m\n\u001b[0;32m      1\u001b[0m \u001b[38;5;28;01mfrom\u001b[39;00m \u001b[38;5;21;01mqiskit_optimization\u001b[39;00m\u001b[38;5;21;01m.\u001b[39;00m\u001b[38;5;21;01mconverters\u001b[39;00m \u001b[38;5;28;01mimport\u001b[39;00m QuadraticProgramToQubo\n\u001b[1;32m----> 3\u001b[0m cto_qubo \u001b[38;5;241m=\u001b[39m QuadraticProgramToQubo()\u001b[38;5;241m.\u001b[39mconvert(mod)\n\u001b[0;32m      4\u001b[0m \u001b[38;5;28mprint\u001b[39m(cto_qubo\u001b[38;5;241m.\u001b[39mprettyprint())\n",
      "File \u001b[1;32mc:\\Users\\isaac\\anaconda3\\envs\\qiskit_env\\Lib\\site-packages\\qiskit_optimization\\converters\\quadratic_program_to_qubo.py:74\u001b[0m, in \u001b[0;36mQuadraticProgramToQubo.convert\u001b[1;34m(self, problem)\u001b[0m\n\u001b[0;32m     72\u001b[0m msg \u001b[38;5;241m=\u001b[39m \u001b[38;5;28mself\u001b[39m\u001b[38;5;241m.\u001b[39mget_compatibility_msg(problem)\n\u001b[0;32m     73\u001b[0m \u001b[38;5;28;01mif\u001b[39;00m \u001b[38;5;28mlen\u001b[39m(msg) \u001b[38;5;241m>\u001b[39m \u001b[38;5;241m0\u001b[39m:\n\u001b[1;32m---> 74\u001b[0m     \u001b[38;5;28;01mraise\u001b[39;00m QiskitOptimizationError(\u001b[38;5;124mf\u001b[39m\u001b[38;5;124m\"\u001b[39m\u001b[38;5;124mIncompatible problem: \u001b[39m\u001b[38;5;132;01m{\u001b[39;00mmsg\u001b[38;5;132;01m}\u001b[39;00m\u001b[38;5;124m\"\u001b[39m)\n\u001b[0;32m     76\u001b[0m \u001b[38;5;28;01mfor\u001b[39;00m conv \u001b[38;5;129;01min\u001b[39;00m \u001b[38;5;28mself\u001b[39m\u001b[38;5;241m.\u001b[39m_converters:\n\u001b[0;32m     77\u001b[0m     problem \u001b[38;5;241m=\u001b[39m conv\u001b[38;5;241m.\u001b[39mconvert(problem)\n",
      "\u001b[1;31mQiskitOptimizationError\u001b[0m: 'Incompatible problem: Can not convert inequality constraints to equality constraint because                     float coefficients are in constraints. '"
     ]
    }
   ],
   "source": [
    "from qiskit_optimization.converters import QuadraticProgramToQubo\n",
    "\n",
    "cto_qubo = QuadraticProgramToQubo().convert(mod)\n",
    "print(cto_qubo.prettyprint())"
   ]
  },
  {
   "cell_type": "markdown",
   "metadata": {},
   "source": [
    "### Mapping into Ising Problem"
   ]
  },
  {
   "cell_type": "code",
   "execution_count": 107,
   "metadata": {},
   "outputs": [
    {
     "ename": "KeyboardInterrupt",
     "evalue": "",
     "output_type": "error",
     "traceback": [
      "\u001b[1;31m---------------------------------------------------------------------------\u001b[0m",
      "\u001b[1;31mKeyboardInterrupt\u001b[0m                         Traceback (most recent call last)",
      "Cell \u001b[1;32mIn[107], line 1\u001b[0m\n\u001b[1;32m----> 1\u001b[0m hamiltonian , offset \u001b[38;5;241m=\u001b[39m cto_qubo\u001b[38;5;241m.\u001b[39mto_ising()\n\u001b[0;32m      2\u001b[0m \u001b[38;5;28mprint\u001b[39m(\u001b[38;5;124m\"\u001b[39m\u001b[38;5;124mOffset:\u001b[39m\u001b[38;5;124m\"\u001b[39m, offset)\n\u001b[0;32m      3\u001b[0m \u001b[38;5;28mprint\u001b[39m(\u001b[38;5;124m\"\u001b[39m\u001b[38;5;124mIsing Hamiltonian:\u001b[39m\u001b[38;5;124m\"\u001b[39m)\n",
      "File \u001b[1;32mc:\\Users\\isaac\\anaconda3\\envs\\qiskit_env\\Lib\\site-packages\\qiskit_optimization\\problems\\quadratic_program.py:1029\u001b[0m, in \u001b[0;36mQuadraticProgram.to_ising\u001b[1;34m(self)\u001b[0m\n\u001b[0;32m   1026\u001b[0m \u001b[38;5;66;03m# pylint: disable=cyclic-import\u001b[39;00m\n\u001b[0;32m   1027\u001b[0m \u001b[38;5;28;01mfrom\u001b[39;00m \u001b[38;5;21;01m.\u001b[39;00m\u001b[38;5;21;01m.\u001b[39;00m\u001b[38;5;21;01mtranslators\u001b[39;00m\u001b[38;5;21;01m.\u001b[39;00m\u001b[38;5;21;01mising\u001b[39;00m \u001b[38;5;28;01mimport\u001b[39;00m to_ising\n\u001b[1;32m-> 1029\u001b[0m \u001b[38;5;28;01mreturn\u001b[39;00m to_ising(\u001b[38;5;28mself\u001b[39m)\n",
      "File \u001b[1;32mc:\\Users\\isaac\\anaconda3\\envs\\qiskit_env\\Lib\\site-packages\\qiskit_optimization\\translators\\ising.py:109\u001b[0m, in \u001b[0;36mto_ising\u001b[1;34m(quad_prog)\u001b[0m\n\u001b[0;32m    105\u001b[0m     offset \u001b[38;5;241m+\u001b[39m\u001b[38;5;241m=\u001b[39m weight\n\u001b[0;32m    107\u001b[0m \u001b[38;5;28;01mif\u001b[39;00m pauli_list:\n\u001b[0;32m    108\u001b[0m     \u001b[38;5;66;03m# Remove paulis whose coefficients are zeros.\u001b[39;00m\n\u001b[1;32m--> 109\u001b[0m     qubit_op \u001b[38;5;241m=\u001b[39m \u001b[38;5;28msum\u001b[39m(pauli_list)\u001b[38;5;241m.\u001b[39msimplify(atol\u001b[38;5;241m=\u001b[39m\u001b[38;5;241m0\u001b[39m)\n\u001b[0;32m    110\u001b[0m \u001b[38;5;28;01melse\u001b[39;00m:\n\u001b[0;32m    111\u001b[0m     \u001b[38;5;66;03m# If there is no variable, we set num_nodes=1 so that qubit_op should be an operator.\u001b[39;00m\n\u001b[0;32m    112\u001b[0m     \u001b[38;5;66;03m# If num_nodes=0, I^0 = 1 (int).\u001b[39;00m\n\u001b[0;32m    113\u001b[0m     num_vars \u001b[38;5;241m=\u001b[39m \u001b[38;5;28mmax\u001b[39m(\u001b[38;5;241m1\u001b[39m, num_vars)\n",
      "File \u001b[1;32mc:\\Users\\isaac\\anaconda3\\envs\\qiskit_env\\Lib\\site-packages\\qiskit\\quantum_info\\operators\\mixins\\linear.py:52\u001b[0m, in \u001b[0;36mLinearMixin.__add__\u001b[1;34m(self, other)\u001b[0m\n\u001b[0;32m     49\u001b[0m     \u001b[38;5;28;01mreturn\u001b[39;00m \u001b[38;5;28mself\u001b[39m\n\u001b[0;32m     51\u001b[0m qargs \u001b[38;5;241m=\u001b[39m \u001b[38;5;28mgetattr\u001b[39m(other, \u001b[38;5;124m\"\u001b[39m\u001b[38;5;124mqargs\u001b[39m\u001b[38;5;124m\"\u001b[39m, \u001b[38;5;28;01mNone\u001b[39;00m)\n\u001b[1;32m---> 52\u001b[0m \u001b[38;5;28;01mreturn\u001b[39;00m \u001b[38;5;28mself\u001b[39m\u001b[38;5;241m.\u001b[39m_add(other, qargs\u001b[38;5;241m=\u001b[39mqargs)\n",
      "File \u001b[1;32mc:\\Users\\isaac\\anaconda3\\envs\\qiskit_env\\Lib\\site-packages\\qiskit\\quantum_info\\operators\\symplectic\\sparse_pauli_op.py:385\u001b[0m, in \u001b[0;36mSparsePauliOp._add\u001b[1;34m(self, other, qargs)\u001b[0m\n\u001b[0;32m    381\u001b[0m     other \u001b[38;5;241m=\u001b[39m SparsePauliOp(other)\n\u001b[0;32m    383\u001b[0m \u001b[38;5;28mself\u001b[39m\u001b[38;5;241m.\u001b[39m_op_shape\u001b[38;5;241m.\u001b[39m_validate_add(other\u001b[38;5;241m.\u001b[39m_op_shape, qargs)\n\u001b[1;32m--> 385\u001b[0m paulis \u001b[38;5;241m=\u001b[39m \u001b[38;5;28mself\u001b[39m\u001b[38;5;241m.\u001b[39mpaulis\u001b[38;5;241m.\u001b[39m_add(other\u001b[38;5;241m.\u001b[39mpaulis, qargs\u001b[38;5;241m=\u001b[39mqargs)\n\u001b[0;32m    386\u001b[0m coeffs \u001b[38;5;241m=\u001b[39m np\u001b[38;5;241m.\u001b[39mhstack((\u001b[38;5;28mself\u001b[39m\u001b[38;5;241m.\u001b[39mcoeffs, other\u001b[38;5;241m.\u001b[39mcoeffs))\n\u001b[0;32m    387\u001b[0m \u001b[38;5;28;01mreturn\u001b[39;00m SparsePauliOp(paulis, coeffs, ignore_pauli_phase\u001b[38;5;241m=\u001b[39m\u001b[38;5;28;01mTrue\u001b[39;00m, copy\u001b[38;5;241m=\u001b[39m\u001b[38;5;28;01mFalse\u001b[39;00m)\n",
      "File \u001b[1;32mc:\\Users\\isaac\\anaconda3\\envs\\qiskit_env\\Lib\\site-packages\\qiskit\\quantum_info\\operators\\symplectic\\pauli_list.py:783\u001b[0m, in \u001b[0;36mPauliList._add\u001b[1;34m(self, other, qargs)\u001b[0m\n\u001b[0;32m    780\u001b[0m base_phase \u001b[38;5;241m=\u001b[39m np\u001b[38;5;241m.\u001b[39mhstack((\u001b[38;5;28mself\u001b[39m\u001b[38;5;241m.\u001b[39m_phase, other\u001b[38;5;241m.\u001b[39m_phase))\n\u001b[0;32m    782\u001b[0m \u001b[38;5;28;01mif\u001b[39;00m qargs \u001b[38;5;129;01mis\u001b[39;00m \u001b[38;5;28;01mNone\u001b[39;00m \u001b[38;5;129;01mor\u001b[39;00m (\u001b[38;5;28msorted\u001b[39m(qargs) \u001b[38;5;241m==\u001b[39m qargs \u001b[38;5;129;01mand\u001b[39;00m \u001b[38;5;28mlen\u001b[39m(qargs) \u001b[38;5;241m==\u001b[39m \u001b[38;5;28mself\u001b[39m\u001b[38;5;241m.\u001b[39mnum_qubits):\n\u001b[1;32m--> 783\u001b[0m     base_z \u001b[38;5;241m=\u001b[39m np\u001b[38;5;241m.\u001b[39mvstack([\u001b[38;5;28mself\u001b[39m\u001b[38;5;241m.\u001b[39m_z, other\u001b[38;5;241m.\u001b[39m_z])\n\u001b[0;32m    784\u001b[0m     base_x \u001b[38;5;241m=\u001b[39m np\u001b[38;5;241m.\u001b[39mvstack([\u001b[38;5;28mself\u001b[39m\u001b[38;5;241m.\u001b[39m_x, other\u001b[38;5;241m.\u001b[39m_x])\n\u001b[0;32m    785\u001b[0m \u001b[38;5;28;01melse\u001b[39;00m:\n\u001b[0;32m    786\u001b[0m     \u001b[38;5;66;03m# Pad other with identity and then add\u001b[39;00m\n",
      "File \u001b[1;32mc:\\Users\\isaac\\anaconda3\\envs\\qiskit_env\\Lib\\site-packages\\numpy\\core\\shape_base.py:289\u001b[0m, in \u001b[0;36mvstack\u001b[1;34m(tup, dtype, casting)\u001b[0m\n\u001b[0;32m    287\u001b[0m \u001b[38;5;28;01mif\u001b[39;00m \u001b[38;5;129;01mnot\u001b[39;00m \u001b[38;5;28misinstance\u001b[39m(arrs, \u001b[38;5;28mlist\u001b[39m):\n\u001b[0;32m    288\u001b[0m     arrs \u001b[38;5;241m=\u001b[39m [arrs]\n\u001b[1;32m--> 289\u001b[0m \u001b[38;5;28;01mreturn\u001b[39;00m _nx\u001b[38;5;241m.\u001b[39mconcatenate(arrs, \u001b[38;5;241m0\u001b[39m, dtype\u001b[38;5;241m=\u001b[39mdtype, casting\u001b[38;5;241m=\u001b[39mcasting)\n",
      "\u001b[1;31mKeyboardInterrupt\u001b[0m: "
     ]
    }
   ],
   "source": [
    "hamiltonian , offset = cto_qubo.to_ising()\n",
    "print(\"Offset:\", offset)\n",
    "print(\"Ising Hamiltonian:\")\n",
    "print(str(qubitOp))"
   ]
  },
  {
   "cell_type": "code",
   "execution_count": null,
   "metadata": {},
   "outputs": [],
   "source": [
    "from qiskit.circuit.library import QAOAAnsatz\n",
    "\n",
    "circuit = QAOAAnsatz(cost_operator = hamiltonian , reps = 2)\n",
    "circuit.measure_all()\n",
    "\n",
    "circuit.draw('mpl')"
   ]
  }
 ],
 "metadata": {
  "kernelspec": {
   "display_name": "qiskit_env",
   "language": "python",
   "name": "python3"
  },
  "language_info": {
   "codemirror_mode": {
    "name": "ipython",
    "version": 3
   },
   "file_extension": ".py",
   "mimetype": "text/x-python",
   "name": "python",
   "nbconvert_exporter": "python",
   "pygments_lexer": "ipython3",
   "version": "3.12.4"
  }
 },
 "nbformat": 4,
 "nbformat_minor": 2
}
