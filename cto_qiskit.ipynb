{
 "cells": [
  {
   "cell_type": "markdown",
   "metadata": {},
   "source": [
    "# Clinical Trial Optimization "
   ]
  },
  {
   "cell_type": "markdown",
   "metadata": {},
   "source": [
    "Je presente ici ma solution pour le probléme d'opimisation d'un trie de sujet pour un test clinique.\n",
    "\n",
    "### Presentation du probléme"
   ]
  },
  {
   "cell_type": "markdown",
   "metadata": {},
   "source": [
    "Cette compétition organisée par Ingenii portait sur l'optimisation du tri des sujets pour un essai clinique. La description complète du problème est disponible sur [la plateforme Aqora](https://aqora.io/competitions/ingenii-clinical-trial), qui héberge la compétition.\n",
    "\n",
    "Le problème consiste à regrouper les sujets en fonction de certains paramètres lors d'un essai clinique. L'objectif est qu'à l'issue de la formation des groupes, les sujets d'un même groupe soient adaptés aux tests cliniques qu'ils devront subir."
   ]
  },
  {
   "cell_type": "markdown",
   "metadata": {},
   "source": [
    "### Formulation mathématique\n",
    "\n",
    "Nous avons 100 sujets que nous souhaitons répartir en deux groupes $p = \\{1, 2\\}$ de 50 personnes chacun. Chaque sujet $i$ est caractérisé par 3 paramètres $\\vec{w_i} = (w_{i1}, w_{i2}, w_{i3})$. Nous mesurons la qualité de ce partitionnement à l'aide de la grandeur suivante :\n",
    "\n",
    "$$\n",
    "d = \\sum_{s=1}^{3} |\\Delta\\mu_s| + \\rho \\sum_{s=1}^{3} |\\Delta\\sigma_{ss}| + 2\\rho \\sum_{s=1}^{3} \\sum_{s' = s+1}^{3} |\\Delta\\sigma_{ss'}|\n",
    "$$\n",
    "\n",
    "où :\n",
    "\n",
    "$$\n",
    "\\Delta\\mu_s = \\frac{1}{n} \\sum_{i=1}^{n} w_{is}(x_{i1} - x_{i2})\n",
    "$$\n",
    "\n",
    "et :\n",
    "\n",
    "$$\n",
    "\\Delta\\sigma_{ss'} = \\frac{1}{n} \\sum_{i=1}^{n} w_{is} w_{is'} (x_{i1} - x_{i2})\n",
    "$$\n",
    "\n",
    "$x_{ip}$ est une variable binaire qui vaut 1 si le sujet $i$ appartient au groupe $p$, et 0 sinon.\n",
    "\n",
    "La grandeur $d$ est appelée la *discrepancy*. Pour un regroupement idéal, la *discrepancy* est minimale. Ce problème de regroupement se ramène donc à résoudre le problème d'optimisation suivant :\n",
    "\n",
    "$$\n",
    "\\min_{x} d\n",
    "$$\n",
    "\n",
    "sous les contraintes :\n",
    "\n",
    "$$\n",
    "\\sum_{i}x_{ip} = \\frac{n}{2}, \\quad \\text{Chaque groupe contient le même nombre de sujets.}\n",
    "$$\n",
    "\n",
    "$$\n",
    "x_{i1} + x_{i2} = 1, \\quad \\text{Un sujet ne peut appartenir qu'à un seul groupe après le regroupement.}\n",
    "$$\n",
    "\n",
    "$$\n",
    "x_{12} = 0, \\quad \\text{Ceci pour éviter la redondance des solutions, car on obtient le même regroupement en intervertissant les groupes 1 et 2.}\n",
    "$$"
   ]
  },
  {
   "cell_type": "markdown",
   "metadata": {},
   "source": [
    "### Reformulation du problème\n",
    "\n",
    "Dans sa formulation initiale, le problème semble nous orienter vers l'utilisation de l'algorithme QAOA. Cependant, cette formulation ne permet pas une implémentation directe de l'algorithme en raison de la présence de valeurs absolues dans la fonction objective. De plus, le nombre de variables impliquées est très élevé : on a effectivement $2n-1$ variables, soit 199 variables dans ce cas, ce qui nécessiterait au moins une machine de 199 qubits, ce qui n'est actuellement pas disponible.\n",
    "\n",
    "* **Écriture sans valeurs absolues :**\n",
    "$$ a = |x| \\Rightarrow x \\leq a \\text{ et } -x \\leq a$$\n",
    "\n",
    "Nous posons alors $z_s = |\\Delta\\mu_s|$, $z_{ss} = |\\Delta\\sigma_{ss}|$, et $z_{ss'} = |\\Delta\\sigma_{ss'}|$. La nouvelle formulation devient :\n",
    "$$\n",
    "\\min_{x, z} \\sum_{s=1}^{3} z_s + \\rho \\sum_{s=1}^{3} z_{ss} + 2\\rho \\sum_{s=1}^{3} \\sum_{s' = s+1}^{3} z_{ss'}\n",
    "$$\n",
    "sous les contraintes suivantes :\n",
    "$$\n",
    "\\sum_{i} x_{ip} = \\frac{n}{2}, \\quad \\text{chaque groupe contient le même nombre de sujets.}\n",
    "$$\n",
    "$$\n",
    "x_{i1} + x_{i2} = 1, \\quad \\text{un sujet ne peut appartenir qu'à un seul groupe après le regroupement.}\n",
    "$$\n",
    "$$\n",
    "x_{12} = 0, \\quad \\text{cela évite la redondance des solutions, car intervertir les groupes 1 et 2 donnerait le même regroupement.}\n",
    "$$\n",
    "$$\n",
    "\\Delta\\mu_s \\leq z_s \\text{ et } -\\Delta\\mu_s \\leq z_s\n",
    "$$\n",
    "$$\n",
    "\\Delta\\sigma_{ss} \\leq z_{ss} \\text{ et } -\\Delta\\sigma_{ss} \\leq z_{ss}\n",
    "$$\n",
    "$$\n",
    "\\Delta\\sigma_{ss'} \\leq z_{ss'} \\text{ et } -\\Delta\\sigma_{ss'} \\leq z_{ss'}\n",
    "$$\n",
    "\n",
    "* **Réduction du nombre de variables :**\n",
    "\n",
    "En remplaçant la contrainte $x_{i1} + x_{i2} = 1$ dans le problème, nous réduisons de $n$ le nombre de variables. En ajoutant les variables $z$, nous obtenons finalement $n - 1 + 9$, soit $n + 8$ variables."
   ]
  },
  {
   "cell_type": "markdown",
   "metadata": {},
   "source": [
    "### Implémentation\n",
    "À ce stade, le problème est bien défini pour être implémenté avec l'algorithme QAOA. La prochaine étape consiste à le transformer en un problème QUBO, une transformation bien connue et générique. Cette étape sera réalisée à l'aide d'une bibliothèque dédiée de Qiskit."
   ]
  },
  {
   "cell_type": "code",
   "execution_count": 1,
   "metadata": {},
   "outputs": [],
   "source": [
    "from qiskit_optimization import QuadraticProgram"
   ]
  },
  {
   "cell_type": "code",
   "execution_count": 2,
   "metadata": {},
   "outputs": [],
   "source": [
    "n =  6 #number of subjects\n",
    "rho = 0.5"
   ]
  },
  {
   "cell_type": "code",
   "execution_count": 3,
   "metadata": {},
   "outputs": [
    {
     "data": {
      "text/plain": [
       "<Variable: 0 <= z_23 (continuous)>"
      ]
     },
     "execution_count": 3,
     "metadata": {},
     "output_type": "execute_result"
    }
   ],
   "source": [
    "mod = QuadraticProgram(\"Clinical trial Optimization\")\n",
    "\n",
    "for i in range(1 , n + 1):\n",
    "    var_name = f\"x_{i}1\"\n",
    "    mod.binary_var(name=var_name)\n",
    "\n",
    "mod.continuous_var(name = \"z_1\")\n",
    "mod.continuous_var(name = \"z_2\")\n",
    "mod.continuous_var(name = \"z_3\")\n",
    "\n",
    "mod.continuous_var(name=\"z_11\")\n",
    "mod.continuous_var(name=\"z_22\")\n",
    "mod.continuous_var(name=\"z_33\")\n",
    "\n",
    "mod.continuous_var(name=\"z_12\")\n",
    "mod.continuous_var(name=\"z_13\")\n",
    "mod.continuous_var(name=\"z_23\")\n",
    "\n",
    "#print(mod.prettyprint())"
   ]
  },
  {
   "cell_type": "code",
   "execution_count": 4,
   "metadata": {},
   "outputs": [],
   "source": [
    "# definition de la fonction objective\n",
    "mod.minimize(linear={\"z_1\": 1 ,\"z_2\": 1 , \"z_3\": 1 \n",
    "                      , \"z_11\":0.5 , \"z_22\":0.5 , \"z_33\":0.5\n",
    "                      , \"z_12\":1 , \"z_13\":1 , \"z_23\":1})"
   ]
  },
  {
   "cell_type": "markdown",
   "metadata": {},
   "source": [
    "Contraite $ \\sum_{i} x_{ip} = \\frac{n}{2} \\text{ avec } p = 1$"
   ]
  },
  {
   "cell_type": "code",
   "execution_count": 16,
   "metadata": {},
   "outputs": [
    {
     "ename": "QiskitOptimizationError",
     "evalue": "\"Linear constraint's name already exists: repartition egale\"",
     "output_type": "error",
     "traceback": [
      "\u001b[1;31m---------------------------------------------------------------------------\u001b[0m",
      "\u001b[1;31mQiskitOptimizationError\u001b[0m                   Traceback (most recent call last)",
      "Cell \u001b[1;32mIn[16], line 2\u001b[0m\n\u001b[0;32m      1\u001b[0m dict_som \u001b[38;5;241m=\u001b[39m {\u001b[38;5;124mf\u001b[39m\u001b[38;5;124m\"\u001b[39m\u001b[38;5;124mx_\u001b[39m\u001b[38;5;132;01m{\u001b[39;00mi\u001b[38;5;132;01m}\u001b[39;00m\u001b[38;5;124m1\u001b[39m\u001b[38;5;124m\"\u001b[39m: \u001b[38;5;241m1\u001b[39m \u001b[38;5;28;01mfor\u001b[39;00m i \u001b[38;5;129;01min\u001b[39;00m \u001b[38;5;28mrange\u001b[39m(\u001b[38;5;241m1\u001b[39m , n \u001b[38;5;241m+\u001b[39m \u001b[38;5;241m1\u001b[39m)}\n\u001b[1;32m----> 2\u001b[0m mod\u001b[38;5;241m.\u001b[39mlinear_constraint(dict_som , sense\u001b[38;5;241m=\u001b[39m \u001b[38;5;124m\"\u001b[39m\u001b[38;5;124m==\u001b[39m\u001b[38;5;124m\"\u001b[39m , rhs \u001b[38;5;241m=\u001b[39m n\u001b[38;5;241m/\u001b[39m\u001b[38;5;241m2\u001b[39m , name \u001b[38;5;241m=\u001b[39m \u001b[38;5;124m\"\u001b[39m\u001b[38;5;124mrepartition egale\u001b[39m\u001b[38;5;124m\"\u001b[39m)\n",
      "File \u001b[1;32mc:\\Users\\isaac\\anaconda3\\envs\\qiskit_env\\Lib\\site-packages\\qiskit_optimization\\problems\\quadratic_program.py:662\u001b[0m, in \u001b[0;36mQuadraticProgram.linear_constraint\u001b[1;34m(self, linear, sense, rhs, name)\u001b[0m\n\u001b[0;32m    660\u001b[0m \u001b[38;5;28;01mif\u001b[39;00m name:\n\u001b[0;32m    661\u001b[0m     \u001b[38;5;28;01mif\u001b[39;00m name \u001b[38;5;129;01min\u001b[39;00m \u001b[38;5;28mself\u001b[39m\u001b[38;5;241m.\u001b[39mlinear_constraints_index:\n\u001b[1;32m--> 662\u001b[0m         \u001b[38;5;28;01mraise\u001b[39;00m QiskitOptimizationError(\u001b[38;5;124mf\u001b[39m\u001b[38;5;124m\"\u001b[39m\u001b[38;5;124mLinear constraint\u001b[39m\u001b[38;5;124m'\u001b[39m\u001b[38;5;124ms name already exists: \u001b[39m\u001b[38;5;132;01m{\u001b[39;00mname\u001b[38;5;132;01m}\u001b[39;00m\u001b[38;5;124m\"\u001b[39m)\n\u001b[0;32m    663\u001b[0m     \u001b[38;5;28mself\u001b[39m\u001b[38;5;241m.\u001b[39m_check_name(name, \u001b[38;5;124m\"\u001b[39m\u001b[38;5;124mLinear constraint\u001b[39m\u001b[38;5;124m\"\u001b[39m)\n\u001b[0;32m    664\u001b[0m \u001b[38;5;28;01melse\u001b[39;00m:\n",
      "\u001b[1;31mQiskitOptimizationError\u001b[0m: \"Linear constraint's name already exists: repartition egale\""
     ]
    }
   ],
   "source": [
    "dict_som = {f\"x_{i}1\": 1 for i in range(1 , n + 1)}\n",
    "mod.linear_constraint(dict_som , sense= \"==\" , rhs = n/2 , name = \"repartition egale\")"
   ]
  },
  {
   "cell_type": "markdown",
   "metadata": {},
   "source": [
    "Contrainte: $x_{12} = 0 \\Rightarrow x_{11} = 1$"
   ]
  },
  {
   "cell_type": "code",
   "execution_count": 6,
   "metadata": {},
   "outputs": [
    {
     "data": {
      "text/plain": [
       "<LinearConstraint: x_11 == 1 'avoid redundance'>"
      ]
     },
     "execution_count": 6,
     "metadata": {},
     "output_type": "execute_result"
    }
   ],
   "source": [
    "mod.linear_constraint({\"x_11\": 1} , sense= \"==\" , rhs = 1 , name= \"avoid redundance\")"
   ]
  },
  {
   "cell_type": "markdown",
   "metadata": {},
   "source": [
    "Contrainte: $\\Delta\\mu_s \\leq z_s \\text{ et } -\\Delta\\mu_s \\leq z_s$\n",
    "\n",
    "$$\n",
    "\\Delta\\mu_s \\leq z_s \\Rightarrow \\sum_{i = 1}^{n}\\frac{2w_{is}}{n}x_{i1} - z_{s} - \\frac{1}{n}\\sum_{i = 1}^{n}w_{is} \\leq 0 \\\\\n",
    "\n",
    "-\\Delta\\mu_s \\leq z_s \\Rightarrow \\sum_{i = 1}^{n}\\frac{2w_{is}}{n}x_{i1} + z_{s} - \\frac{1}{n}\\sum_{i = 1}^{n}w_{is} \\geq 0 \n",
    "$$\n",
    "\n"
   ]
  },
  {
   "cell_type": "code",
   "execution_count": 7,
   "metadata": {},
   "outputs": [],
   "source": [
    "import csv\n",
    "\n",
    "data_list_csv = []\n",
    "with open('pbc.csv', mode='r') as file:\n",
    "    reader = csv.reader(file)\n",
    "    # Skip the header\n",
    "    next(reader)\n",
    "    # Iterate over the rows and add them to the list\n",
    "    for row in reader:\n",
    "        # Convert strings to float for numeric columns\n",
    "        data_list_csv.append([float(row[0]), float(row[1]), float(row[2])])"
   ]
  },
  {
   "cell_type": "code",
   "execution_count": 14,
   "metadata": {},
   "outputs": [],
   "source": [
    "#data_list_csv"
   ]
  },
  {
   "cell_type": "code",
   "execution_count": 15,
   "metadata": {},
   "outputs": [],
   "source": [
    "W = []\n",
    "for i in range(3):\n",
    "    w_list = [row[i] for row in data_list_csv]\n",
    "    w_sum = 0\n",
    "    for w in w_list:\n",
    "        w_sum = w_sum + w\n",
    "        w_sum = w_sum/n\n",
    "    W.append(w_sum)\n",
    "\n",
    "\n",
    "for i in range(3):\n",
    "    dict_x_s = {}\n",
    "    w_list = [row[i] for row in data_list_csv]\n",
    "    dict_x_s = {f\"x_{j + 1}1\": (2*w_list[j])/n for j in range(0 , n)}\n",
    "    dict_x_s.update({f\"z_{i + 1}\": -1})\n",
    "    mod.linear_constraint(linear=dict_x_s , sense= \"<=\" , rhs= W[i])\n",
    "\n",
    "\n",
    "for i in range(3):\n",
    "    dict_x_s = {}\n",
    "    w_list = [row[i] for row in data_list_csv]\n",
    "    dict_x_s = {f\"x_{j + 1}1\": (2*w_list[j])/n for j in range(0 , n)}\n",
    "    dict_x_s.update({f\"z_{i + 1}\": 1})\n",
    "    mod.linear_constraint(linear=dict_x_s , sense= \">=\" , rhs= W[i])"
   ]
  },
  {
   "cell_type": "markdown",
   "metadata": {},
   "source": [
    "Contrainte: $\\Delta\\sigma_{ss} \\leq z_{ss} \\text{ et } -\\Delta\\sigma_{ss} \\leq z_{ss}$\n",
    "\n",
    "$$\n",
    "\\Delta\\sigma_{ss} \\leq z_{ss} \\Rightarrow \\sum_{i = 1}^{n}\\frac{2w_{is}}{n}x_{i1} - z_{s} - \\frac{1}{n}\\sum_{i = 1}^{n}w_{is} \\leq 0 \\\\\n",
    "\n",
    "-\\Delta\\mu_s \\leq z_s \\Rightarrow \\sum_{i = 1}^{n}\\frac{2w_{is}}{n}x_{i1} + z_{s} - \\frac{1}{n}\\sum_{i = 1}^{n}w_{is} \\geq 0 \n",
    "$$"
   ]
  },
  {
   "cell_type": "code",
   "execution_count": 13,
   "metadata": {},
   "outputs": [
    {
     "name": "stdout",
     "output_type": "stream",
     "text": [
      "Problem name: Clinical trial Optimization\n",
      "\n",
      "Minimize\n",
      "  z_1 + 0.5*z_11 + z_12 + z_13 + z_2 + 0.5*z_22 + z_23 + z_3 + 0.5*z_33\n",
      "\n",
      "Subject to\n",
      "  Linear constraints (5)\n",
      "    x_11 + x_21 + x_31 + x_41 + x_51 + x_61 == 3  'repartition egale'\n",
      "    x_11 == 1  'avoid redundance'\n",
      "    4.066666666666666*x_11 + 3.533333333333333*x_21 + 4*x_31\n",
      "    + 3.4333333333333336*x_41 + 3.6333333333333333*x_51\n",
      "    + 3.6666666666666665*x_61 - z_1 <= 2.1488305383362003  'c2'\n",
      "    19.588409765001135*x_11 + 18.815423226100833*x_21 + 23.357517681953*x_31\n",
      "    + 18.246862879306402*x_41 + 12.701802418434866*x_51\n",
      "    + 22.086242299794666*x_61 - z_2 <= 6.9232734086527  'c3'\n",
      "    572.6666666666666*x_11 + 2464.9333333333334*x_21 + 172*x_31\n",
      "    + 2040.6000000000001*x_41 + 223.66666666666666*x_51 + 314.6666666666667*x_61\n",
      "    - z_3 <= 390.6338899607254  'c4'\n",
      "\n",
      "  Continuous variables (9)\n",
      "    0 <= z_1\n",
      "    0 <= z_2\n",
      "    0 <= z_3\n",
      "    0 <= z_11\n",
      "    0 <= z_22\n",
      "    0 <= z_33\n",
      "    0 <= z_12\n",
      "    0 <= z_13\n",
      "    0 <= z_23\n",
      "\n",
      "  Binary variables (6)\n",
      "    x_11 x_21 x_31 x_41 x_51 x_61\n",
      "\n"
     ]
    }
   ],
   "source": [
    "print(mod.prettyprint())"
   ]
  },
  {
   "cell_type": "code",
   "execution_count": 11,
   "metadata": {},
   "outputs": [
    {
     "data": {
      "text/plain": [
       "[2.1488305383362003, 6.9232734086527, 390.6338899607254]"
      ]
     },
     "execution_count": 11,
     "metadata": {},
     "output_type": "execute_result"
    }
   ],
   "source": [
    "mo."
   ]
  },
  {
   "cell_type": "code",
   "execution_count": 12,
   "metadata": {},
   "outputs": [
    {
     "ename": "SyntaxError",
     "evalue": "expected ':' (3377039381.py, line 1)",
     "output_type": "error",
     "traceback": [
      "\u001b[1;36m  Cell \u001b[1;32mIn[12], line 1\u001b[1;36m\u001b[0m\n\u001b[1;33m    for w in w\u001b[0m\n\u001b[1;37m              ^\u001b[0m\n\u001b[1;31mSyntaxError\u001b[0m\u001b[1;31m:\u001b[0m expected ':'\n"
     ]
    }
   ],
   "source": [
    "\n",
    "\n",
    "for w in w"
   ]
  },
  {
   "cell_type": "code",
   "execution_count": 13,
   "metadata": {},
   "outputs": [
    {
     "data": {
      "text/plain": [
       "[12.2, 58.7652292950034, 1718.0]"
      ]
     },
     "execution_count": 13,
     "metadata": {},
     "output_type": "execute_result"
    }
   ],
   "source": [
    "data_list_csv[0]"
   ]
  },
  {
   "cell_type": "code",
   "execution_count": 6,
   "metadata": {},
   "outputs": [
    {
     "name": "stdout",
     "output_type": "stream",
     "text": [
      "Problem name: Clinical trial Optimization\n",
      "\n",
      "Minimize\n",
      "  z_1 + 0.5*z_11 + z_12 + z_13 + z_2 + 0.5*z_22 + z_23 + z_3 + 0.5*z_33\n",
      "\n",
      "Subject to\n",
      "  Linear constraints (2)\n",
      "    x_1001 + x_101 + x_11 + x_111 + x_121 + x_131 + x_141 + x_151 + x_161\n",
      "    + x_171 + x_181 + x_191 + x_201 + x_21 + x_211 + x_221 + x_231 + x_241\n",
      "    + x_251 + x_261 + x_271 + x_281 + x_291 + x_301 + x_31 + x_311 + x_321\n",
      "    + x_331 + x_341 + x_351 + x_361 + x_371 + x_381 + x_391 + x_401 + x_41\n",
      "    + x_411 + x_421 + x_431 + x_441 + x_451 + x_461 + x_471 + x_481 + x_491\n",
      "    + x_501 + x_51 + x_511 + x_521 + x_531 + x_541 + x_551 + x_561 + x_571\n",
      "    + x_581 + x_591 + x_601 + x_61 + x_611 + x_621 + x_631 + x_641 + x_651\n",
      "    + x_661 + x_671 + x_681 + x_691 + x_701 + x_71 + x_711 + x_721 + x_731\n",
      "    + x_741 + x_751 + x_761 + x_771 + x_781 + x_791 + x_801 + x_81 + x_811\n",
      "    + x_821 + x_831 + x_841 + x_851 + x_861 + x_871 + x_881 + x_891 + x_901\n",
      "    + x_91 + x_911 + x_921 + x_931 + x_941 + x_951 + x_961 + x_971 + x_981\n",
      "    + x_991 == 50  'repartition egale'\n",
      "    x_11 == 1  'Non redondance'\n",
      "\n",
      "  Continuous variables (9)\n",
      "    0 <= z_1\n",
      "    0 <= z_2\n",
      "    0 <= z_3\n",
      "    0 <= z_11\n",
      "    0 <= z_22\n",
      "    0 <= z_33\n",
      "    0 <= z_12\n",
      "    0 <= z_13\n",
      "    0 <= z_23\n",
      "\n",
      "  Binary variables (100)\n",
      "    x_11 x_21 x_31 x_41 x_51 x_61 x_71 x_81 x_91 x_101 x_111 x_121 x_131 x_141\n",
      "    x_151 x_161 x_171 x_181 x_191 x_201 x_211 x_221 x_231 x_241 x_251 x_261\n",
      "    x_271 x_281 x_291 x_301 x_311 x_321 x_331 x_341 x_351 x_361 x_371 x_381\n",
      "    x_391 x_401 x_411 x_421 x_431 x_441 x_451 x_461 x_471 x_481 x_491 x_501\n",
      "    x_511 x_521 x_531 x_541 x_551 x_561 x_571 x_581 x_591 x_601 x_611 x_621\n",
      "    x_631 x_641 x_651 x_661 x_671 x_681 x_691 x_701 x_711 x_721 x_731 x_741\n",
      "    x_751 x_761 x_771 x_781 x_791 x_801 x_811 x_821 x_831 x_841 x_851 x_861\n",
      "    x_871 x_881 x_891 x_901 x_911 x_921 x_931 x_941 x_951 x_961 x_971 x_981\n",
      "    x_991 x_1001\n",
      "\n"
     ]
    }
   ],
   "source": [
    "print(mod.prettyprint())"
   ]
  },
  {
   "cell_type": "code",
   "execution_count": 9,
   "metadata": {},
   "outputs": [
    {
     "data": {
      "text/plain": [
       "[[12.2, 58.7652292950034, 1718.0],\n",
       " [10.6, 56.4462696783025, 7394.8],\n",
       " [12.0, 70.072553045859, 516.0],\n",
       " [10.3, 54.7405886379192, 6121.8],\n",
       " [10.9, 38.1054072553046, 671.0]]"
      ]
     },
     "execution_count": 9,
     "metadata": {},
     "output_type": "execute_result"
    }
   ],
   "source": []
  },
  {
   "cell_type": "code",
   "execution_count": null,
   "metadata": {},
   "outputs": [],
   "source": []
  }
 ],
 "metadata": {
  "kernelspec": {
   "display_name": "qiskit_env",
   "language": "python",
   "name": "python3"
  },
  "language_info": {
   "codemirror_mode": {
    "name": "ipython",
    "version": 3
   },
   "file_extension": ".py",
   "mimetype": "text/x-python",
   "name": "python",
   "nbconvert_exporter": "python",
   "pygments_lexer": "ipython3",
   "version": "3.12.4"
  }
 },
 "nbformat": 4,
 "nbformat_minor": 2
}
