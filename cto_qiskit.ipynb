{
 "cells": [
  {
   "cell_type": "markdown",
   "metadata": {},
   "source": [
    "# Clinical Trial Optimization "
   ]
  },
  {
   "cell_type": "markdown",
   "metadata": {},
   "source": [
    "Je presente ici ma solution pour le probléme d'opimisation d'un trie de sujet pour un test clinique.\n",
    "\n",
    "### Presentation du probléme"
   ]
  },
  {
   "cell_type": "markdown",
   "metadata": {},
   "source": [
    "Cette compétition organisée par Ingenii portait sur l'optimisation du tri des sujets pour un essai clinique. La description complète du problème est disponible sur [la plateforme Aqora](https://aqora.io/competitions/ingenii-clinical-trial), qui héberge la compétition.\n",
    "\n",
    "Le problème consiste à regrouper les sujets en fonction de certains paramètres lors d'un essai clinique. L'objectif est qu'à l'issue de la formation des groupes, les sujets d'un même groupe soient adaptés aux tests cliniques qu'ils devront subir."
   ]
  },
  {
   "cell_type": "markdown",
   "metadata": {},
   "source": [
    "### Formulation mathématique\n",
    "\n",
    "Nous avons 100 sujets que nous souhaitons répartir en deux groupes $p = \\{1, 2\\}$ de 50 personnes chacun. Chaque sujet $i$ est caractérisé par 3 paramètres $\\vec{w_i} = (w_{i1}, w_{i2}, w_{i3})$. Nous mesurons la qualité de ce partitionnement à l'aide de la grandeur suivante :\n",
    "\n",
    "$$\n",
    "d = \\sum_{s=1}^{3} |\\Delta\\mu_s| + \\rho \\sum_{s=1}^{3} |\\Delta\\sigma_{ss}| + 2\\rho \\sum_{s=1}^{3} \\sum_{s' = s+1}^{3} |\\Delta\\sigma_{ss'}|\n",
    "$$\n",
    "\n",
    "où :\n",
    "\n",
    "$$\n",
    "\\Delta\\mu_s = \\frac{1}{n} \\sum_{i=1}^{n} w_{is}(x_{i1} - x_{i2})\n",
    "$$\n",
    "\n",
    "et :\n",
    "\n",
    "$$\n",
    "\\Delta\\sigma_{ss'} = \\frac{1}{n} \\sum_{i=1}^{n} w_{is} w_{is'} (x_{i1} - x_{i2})\n",
    "$$\n",
    "\n",
    "$x_{ip}$ est une variable binaire qui vaut 1 si le sujet $i$ appartient au groupe $p$, et 0 sinon.\n",
    "\n",
    "La grandeur $d$ est appelée la *discrepancy*. Pour un regroupement idéal, la *discrepancy* est minimale. Ce problème de regroupement se ramène donc à résoudre le problème d'optimisation suivant :\n",
    "\n",
    "$$\n",
    "\\min_{x} d\n",
    "$$\n",
    "\n",
    "sous les contraintes :\n",
    "\n",
    "$$\n",
    "\\sum_{i}x_{ip} = \\frac{n}{2}, \\quad \\text{Chaque groupe contient le même nombre de sujets.}\n",
    "$$\n",
    "\n",
    "$$\n",
    "x_{i1} + x_{i2} = 1, \\quad \\text{Un sujet ne peut appartenir qu'à un seul groupe après le regroupement.}\n",
    "$$\n",
    "\n",
    "$$\n",
    "x_{12} = 0, \\quad \\text{Ceci pour éviter la redondance des solutions, car on obtient le même regroupement en intervertissant les groupes 1 et 2.}\n",
    "$$"
   ]
  },
  {
   "cell_type": "markdown",
   "metadata": {},
   "source": [
    "### Reformulation du problème\n",
    "\n",
    "Dans sa formulation initiale, le problème semble nous orienter vers l'utilisation de l'algorithme QAOA. Cependant, cette formulation ne permet pas une implémentation directe de l'algorithme en raison de la présence de valeurs absolues dans la fonction objective. De plus, le nombre de variables impliquées est très élevé : on a effectivement $2n-1$ variables, soit 199 variables dans ce cas, ce qui nécessiterait au moins une machine de 199 qubits, ce qui n'est actuellement pas disponible.\n",
    "\n",
    "* **Écriture sans valeurs absolues :**\n",
    "$$ a = |x| \\Rightarrow x \\leq a \\text{ et } -x \\leq a$$\n",
    "\n",
    "Nous posons alors $z_s = |\\Delta\\mu_s|$, $z_{ss} = |\\Delta\\sigma_{ss}|$, et $z_{ss'} = |\\Delta\\sigma_{ss'}|$. La nouvelle formulation devient :\n",
    "$$\n",
    "\\min_{x, z} \\sum_{s=1}^{3} z_s + \\rho \\sum_{s=1}^{3} z_{ss} + 2\\rho \\sum_{s=1}^{3} \\sum_{s' = s+1}^{3} z_{ss'}\n",
    "$$\n",
    "sous les contraintes suivantes :\n",
    "$$\n",
    "\\sum_{i} x_{ip} = \\frac{n}{2}, \\quad \\text{chaque groupe contient le même nombre de sujets.}\n",
    "$$\n",
    "$$\n",
    "x_{i1} + x_{i2} = 1, \\quad \\text{un sujet ne peut appartenir qu'à un seul groupe après le regroupement.}\n",
    "$$\n",
    "$$\n",
    "x_{12} = 0, \\quad \\text{cela évite la redondance des solutions, car intervertir les groupes 1 et 2 donnerait le même regroupement.}\n",
    "$$\n",
    "$$\n",
    "\\Delta\\mu_s \\leq z_s \\text{ et } -\\Delta\\mu_s \\leq z_s\n",
    "$$\n",
    "$$\n",
    "\\Delta\\sigma_{ss} \\leq z_{ss} \\text{ et } -\\Delta\\sigma_{ss} \\leq z_{ss}\n",
    "$$\n",
    "$$\n",
    "\\Delta\\sigma_{ss'} \\leq z_{ss'} \\text{ et } -\\Delta\\sigma_{ss'} \\leq z_{ss'}\n",
    "$$\n",
    "\n",
    "* **Réduction du nombre de variables :**\n",
    "\n",
    "En remplaçant la contrainte $x_{i1} + x_{i2} = 1$ dans le problème, nous réduisons de $n$ le nombre de variables. En ajoutant les variables $z$, nous obtenons finalement $n - 1 + 9$, soit $n + 8$ variables."
   ]
  },
  {
   "cell_type": "markdown",
   "metadata": {},
   "source": [
    "### Implémentation\n",
    "À ce stade, le problème est bien défini pour être implémenté avec l'algorithme QAOA. La prochaine étape consiste à le transformer en un problème QUBO, une transformation bien connue et générique. Cette étape sera réalisée à l'aide d'une bibliothèque dédiée de Qiskit."
   ]
  },
  {
   "cell_type": "code",
   "execution_count": 1,
   "metadata": {},
   "outputs": [],
   "source": [
    "from qiskit_optimization import QuadraticProgram"
   ]
  },
  {
   "cell_type": "code",
   "execution_count": 2,
   "metadata": {},
   "outputs": [],
   "source": [
    "n =  6 #number of subjects\n",
    "rho = 0.5"
   ]
  },
  {
   "cell_type": "code",
   "execution_count": 3,
   "metadata": {},
   "outputs": [
    {
     "data": {
      "text/plain": [
       "<Variable: 0 <= z_23 (continuous)>"
      ]
     },
     "execution_count": 3,
     "metadata": {},
     "output_type": "execute_result"
    }
   ],
   "source": [
    "mod = QuadraticProgram(\"Clinical trial Optimization\")\n",
    "\n",
    "for i in range(1 , n + 1):\n",
    "    var_name = f\"x_{i}1\"\n",
    "    mod.binary_var(name=var_name)\n",
    "\n",
    "mod.continuous_var(name = \"z_1\")\n",
    "mod.continuous_var(name = \"z_2\")\n",
    "mod.continuous_var(name = \"z_3\")\n",
    "\n",
    "mod.continuous_var(name=\"z_11\")\n",
    "mod.continuous_var(name=\"z_22\")\n",
    "mod.continuous_var(name=\"z_33\")\n",
    "\n",
    "mod.continuous_var(name=\"z_12\")\n",
    "mod.continuous_var(name=\"z_13\")\n",
    "mod.continuous_var(name=\"z_23\")\n",
    "\n",
    "#print(mod.prettyprint())"
   ]
  },
  {
   "cell_type": "code",
   "execution_count": 4,
   "metadata": {},
   "outputs": [],
   "source": [
    "# definition de la fonction objective\n",
    "mod.minimize(linear={\"z_1\": 1 ,\"z_2\": 1 , \"z_3\": 1 \n",
    "                      , \"z_11\":0.5 , \"z_22\":0.5 , \"z_33\":0.5\n",
    "                      , \"z_12\":1 , \"z_13\":1 , \"z_23\":1})"
   ]
  },
  {
   "cell_type": "markdown",
   "metadata": {},
   "source": [
    "Contraite $ \\sum_{i} x_{ip} = \\frac{n}{2} \\text{ avec } p = 1$"
   ]
  },
  {
   "cell_type": "code",
   "execution_count": 5,
   "metadata": {},
   "outputs": [
    {
     "data": {
      "text/plain": [
       "<LinearConstraint: x_11 + x_21 + x_31 + x_41 + x_51 + x_61 == 3.0 'repartition egale'>"
      ]
     },
     "execution_count": 5,
     "metadata": {},
     "output_type": "execute_result"
    }
   ],
   "source": [
    "dict_som = {f\"x_{i}1\": 1 for i in range(1 , n + 1)}\n",
    "mod.linear_constraint(dict_som , sense= \"==\" , rhs = n/2 , name = \"repartition egale\")"
   ]
  },
  {
   "cell_type": "markdown",
   "metadata": {},
   "source": [
    "Contrainte: $x_{12} = 0 \\Rightarrow x_{11} = 1$"
   ]
  },
  {
   "cell_type": "code",
   "execution_count": 6,
   "metadata": {},
   "outputs": [
    {
     "data": {
      "text/plain": [
       "<LinearConstraint: x_11 == 1 'avoid redundance'>"
      ]
     },
     "execution_count": 6,
     "metadata": {},
     "output_type": "execute_result"
    }
   ],
   "source": [
    "mod.linear_constraint({\"x_11\": 1} , sense= \"==\" , rhs = 1 , name= \"avoid redundance\")"
   ]
  },
  {
   "cell_type": "markdown",
   "metadata": {},
   "source": [
    "Contrainte: $\\Delta\\mu_s \\leq z_s \\text{ et } -\\Delta\\mu_s \\leq z_s$\n",
    "\n",
    "$$\n",
    "\\Delta\\mu_s \\leq z_s \\Rightarrow \\sum_{i = 1}^{n}\\frac{2w_{is}}{n}x_{i1} - z_{s} - \\frac{1}{n}\\sum_{i = 1}^{n}w_{is} \\leq 0 \\\\\n",
    "\n",
    "-\\Delta\\mu_s \\leq z_s \\Rightarrow \\sum_{i = 1}^{n}\\frac{2w_{is}}{n}x_{i1} + z_{s} - \\frac{1}{n}\\sum_{i = 1}^{n}w_{is} \\geq 0 \n",
    "$$\n",
    "\n"
   ]
  },
  {
   "cell_type": "code",
   "execution_count": 7,
   "metadata": {},
   "outputs": [],
   "source": [
    "import csv\n",
    "\n",
    "data_list_csv = []\n",
    "with open('pbc.csv', mode='r') as file:\n",
    "    reader = csv.reader(file)\n",
    "    # Skip the header\n",
    "    next(reader)\n",
    "    # Iterate over the rows and add them to the list\n",
    "    for row in reader:\n",
    "        # Convert strings to float for numeric columns\n",
    "        data_list_csv.append([float(row[0]), float(row[1]), float(row[2])])"
   ]
  },
  {
   "cell_type": "code",
   "execution_count": 8,
   "metadata": {},
   "outputs": [],
   "source": [
    "#data_list_csv"
   ]
  },
  {
   "cell_type": "code",
   "execution_count": 9,
   "metadata": {},
   "outputs": [],
   "source": [
    "W = []\n",
    "for i in range(3):\n",
    "    w_list = [row[i] for row in data_list_csv]\n",
    "    w_sum = 0\n",
    "    for w in w_list:\n",
    "        w_sum = w_sum + w\n",
    "        w_sum = w_sum/n\n",
    "    W.append(w_sum)\n",
    "\n",
    "\n",
    "for i in range(3):\n",
    "    dict_x_s = {}\n",
    "    w_list = [row[i] for row in data_list_csv]\n",
    "    dict_x_s = {f\"x_{j + 1}1\": (2*w_list[j])/n for j in range(0 , n)}\n",
    "    dict_x_s.update({f\"z_{i + 1}\": -1})\n",
    "    mod.linear_constraint(linear=dict_x_s , sense= \"<=\" , rhs= W[i])\n",
    "\n",
    "\n",
    "for i in range(3):\n",
    "    dict_x_s = {}\n",
    "    w_list = [row[i] for row in data_list_csv]\n",
    "    dict_x_s = {f\"x_{j + 1}1\": (2*w_list[j])/n for j in range(0 , n)}\n",
    "    dict_x_s.update({f\"z_{i + 1}\": 1})\n",
    "    mod.linear_constraint(linear=dict_x_s , sense= \">=\" , rhs= W[i])"
   ]
  },
  {
   "cell_type": "markdown",
   "metadata": {},
   "source": [
    "Contrainte: $\\Delta\\sigma_{ss} \\leq z_{ss} \\text{ et } -\\Delta\\sigma_{ss} \\leq z_{ss}$\n",
    "\n",
    "$$\n",
    "\\Delta\\sigma_{ss} \\leq z_{ss} \\Rightarrow \\sum_{i = 1}^{n}\\frac{2w_{is}^2}{n}x_{i1} - z_{ss}  \\leq \\frac{1}{n}\\sum_{i = 1}^{n}w_{is}^2 \\\\\n",
    "\n",
    "- \\Delta\\sigma_{ss} \\leq z_{ss} \\Rightarrow \\sum_{i = 1}^{n}\\frac{2w_{is}^2}{n}x_{i1} + z_{ss}  \\geq \\frac{1}{n}\\sum_{i = 1}^{n}w_{is}^2 \n",
    "$$"
   ]
  }
 ],
 "metadata": {
  "kernelspec": {
   "display_name": "qiskit_env",
   "language": "python",
   "name": "python3"
  },
  "language_info": {
   "codemirror_mode": {
    "name": "ipython",
    "version": 3
   },
   "file_extension": ".py",
   "mimetype": "text/x-python",
   "name": "python",
   "nbconvert_exporter": "python",
   "pygments_lexer": "ipython3",
   "version": "3.12.4"
  }
 },
 "nbformat": 4,
 "nbformat_minor": 2
}
